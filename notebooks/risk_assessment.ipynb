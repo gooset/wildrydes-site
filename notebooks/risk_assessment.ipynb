{
 "cells": [
  {
   "cell_type": "markdown",
   "metadata": {},
   "source": [
    "# Risk Assessment Notebook"
   ]
  },
  {
   "cell_type": "code",
   "execution_count": 3,
   "metadata": {},
   "outputs": [],
   "source": [
    "import pandas as pd\n",
    "import numpy as np\n",
    "\n",
    "import matplotlib.pyplot as plt\n",
    "import folium\n",
    "import plotly.express as px\n",
    "import plotly.graph_objs as go\n",
    "from folium.plugins import MarkerCluster\n",
    "import plotly.io as pio\n",
    "from plotly.subplots import make_subplots"
   ]
  },
  {
   "cell_type": "code",
   "execution_count": 4,
   "metadata": {},
   "outputs": [],
   "source": [
    "from src.utils.data_loader import load_data\n",
    "from src.models.risk_assessment import DengueRiskAssessment"
   ]
  },
  {
   "cell_type": "code",
   "execution_count": 5,
   "metadata": {},
   "outputs": [],
   "source": [
    "data = load_data('data/featured_data.csv')"
   ]
  },
  {
   "cell_type": "code",
   "execution_count": 6,
   "metadata": {},
   "outputs": [],
   "source": [
    "# Risk assessment\n",
    "risk = DengueRiskAssessment(data)"
   ]
  },
  {
   "cell_type": "code",
   "execution_count": 7,
   "metadata": {},
   "outputs": [],
   "source": [
    "# Calculate city risk scores\n",
    "city_risks = risk.calculate_city_risk_scores()"
   ]
  },
  {
   "cell_type": "code",
   "execution_count": 8,
   "metadata": {},
   "outputs": [
    {
     "data": {
      "text/html": [
       "<div>\n",
       "<style scoped>\n",
       "    .dataframe tbody tr th:only-of-type {\n",
       "        vertical-align: middle;\n",
       "    }\n",
       "\n",
       "    .dataframe tbody tr th {\n",
       "        vertical-align: top;\n",
       "    }\n",
       "\n",
       "    .dataframe thead th {\n",
       "        text-align: right;\n",
       "    }\n",
       "</style>\n",
       "<table border=\"1\" class=\"dataframe\">\n",
       "  <thead>\n",
       "    <tr style=\"text-align: right;\">\n",
       "      <th></th>\n",
       "      <th>city</th>\n",
       "      <th>wind_speed_10m_max_5d_std_mean</th>\n",
       "      <th>wind_speed_10m_max_5d_std_std</th>\n",
       "      <th>precipitation_sum_5d_std_mean</th>\n",
       "      <th>precipitation_sum_5d_std_std</th>\n",
       "      <th>temperature_2m_min_5d_std_mean</th>\n",
       "      <th>temperature_2m_min_5d_std_std</th>\n",
       "      <th>temperature_2m_max_mean</th>\n",
       "      <th>temperature_2m_max_std</th>\n",
       "      <th>wind_speed_10m_max_mean</th>\n",
       "      <th>...</th>\n",
       "      <th>temperature_2m_max_5d_std_std</th>\n",
       "      <th>occurrence_id_mean</th>\n",
       "      <th>occurrence_id_std</th>\n",
       "      <th>longitude_mean</th>\n",
       "      <th>longitude_std</th>\n",
       "      <th>arbovirus_bool_mean</th>\n",
       "      <th>arbovirus_bool_sum</th>\n",
       "      <th>arbovirus_bool_count</th>\n",
       "      <th>risk_score</th>\n",
       "      <th>risk_category</th>\n",
       "    </tr>\n",
       "  </thead>\n",
       "  <tbody>\n",
       "    <tr>\n",
       "      <th>0</th>\n",
       "      <td>Beyla</td>\n",
       "      <td>0.646834</td>\n",
       "      <td>0.696144</td>\n",
       "      <td>5.698369</td>\n",
       "      <td>8.932159</td>\n",
       "      <td>0.904246</td>\n",
       "      <td>1.072798</td>\n",
       "      <td>29.676474</td>\n",
       "      <td>2.851285</td>\n",
       "      <td>4.746825</td>\n",
       "      <td>...</td>\n",
       "      <td>0.696316</td>\n",
       "      <td>4028.445303</td>\n",
       "      <td>3192.580748</td>\n",
       "      <td>-8.6333</td>\n",
       "      <td>0.0</td>\n",
       "      <td>0.148019</td>\n",
       "      <td>1188.0</td>\n",
       "      <td>8026</td>\n",
       "      <td>35.272391</td>\n",
       "      <td>Low</td>\n",
       "    </tr>\n",
       "    <tr>\n",
       "      <th>1</th>\n",
       "      <td>Boffa</td>\n",
       "      <td>0.639281</td>\n",
       "      <td>0.677063</td>\n",
       "      <td>5.676999</td>\n",
       "      <td>8.749712</td>\n",
       "      <td>0.916923</td>\n",
       "      <td>1.056893</td>\n",
       "      <td>29.368693</td>\n",
       "      <td>2.715274</td>\n",
       "      <td>4.423235</td>\n",
       "      <td>...</td>\n",
       "      <td>0.656997</td>\n",
       "      <td>5205.061152</td>\n",
       "      <td>3228.529669</td>\n",
       "      <td>-14.0430</td>\n",
       "      <td>0.0</td>\n",
       "      <td>0.144475</td>\n",
       "      <td>1212.0</td>\n",
       "      <td>8389</td>\n",
       "      <td>34.507764</td>\n",
       "      <td>Low</td>\n",
       "    </tr>\n",
       "    <tr>\n",
       "      <th>2</th>\n",
       "      <td>Boké</td>\n",
       "      <td>0.492362</td>\n",
       "      <td>0.666224</td>\n",
       "      <td>4.258942</td>\n",
       "      <td>8.032152</td>\n",
       "      <td>0.707142</td>\n",
       "      <td>1.040307</td>\n",
       "      <td>28.919834</td>\n",
       "      <td>2.889850</td>\n",
       "      <td>4.039173</td>\n",
       "      <td>...</td>\n",
       "      <td>0.673583</td>\n",
       "      <td>5296.355891</td>\n",
       "      <td>3175.567187</td>\n",
       "      <td>-14.3000</td>\n",
       "      <td>0.0</td>\n",
       "      <td>0.200135</td>\n",
       "      <td>2079.0</td>\n",
       "      <td>10388</td>\n",
       "      <td>0.000000</td>\n",
       "      <td>Low</td>\n",
       "    </tr>\n",
       "    <tr>\n",
       "      <th>3</th>\n",
       "      <td>Conakry</td>\n",
       "      <td>0.678548</td>\n",
       "      <td>0.672018</td>\n",
       "      <td>6.342908</td>\n",
       "      <td>9.161623</td>\n",
       "      <td>1.049100</td>\n",
       "      <td>1.129376</td>\n",
       "      <td>30.762072</td>\n",
       "      <td>2.791775</td>\n",
       "      <td>5.782541</td>\n",
       "      <td>...</td>\n",
       "      <td>0.689901</td>\n",
       "      <td>3956.057589</td>\n",
       "      <td>2640.150173</td>\n",
       "      <td>-13.7122</td>\n",
       "      <td>0.0</td>\n",
       "      <td>0.036748</td>\n",
       "      <td>268.0</td>\n",
       "      <td>7293</td>\n",
       "      <td>40.142746</td>\n",
       "      <td>Low</td>\n",
       "    </tr>\n",
       "    <tr>\n",
       "      <th>4</th>\n",
       "      <td>Coyah</td>\n",
       "      <td>0.678802</td>\n",
       "      <td>0.698380</td>\n",
       "      <td>6.345200</td>\n",
       "      <td>9.245745</td>\n",
       "      <td>1.022975</td>\n",
       "      <td>1.146093</td>\n",
       "      <td>30.807930</td>\n",
       "      <td>2.820383</td>\n",
       "      <td>5.926860</td>\n",
       "      <td>...</td>\n",
       "      <td>0.690932</td>\n",
       "      <td>5890.461161</td>\n",
       "      <td>2688.489044</td>\n",
       "      <td>-13.3769</td>\n",
       "      <td>0.0</td>\n",
       "      <td>0.063529</td>\n",
       "      <td>440.0</td>\n",
       "      <td>6926</td>\n",
       "      <td>56.514107</td>\n",
       "      <td>Medium</td>\n",
       "    </tr>\n",
       "  </tbody>\n",
       "</table>\n",
       "<p>5 rows × 26 columns</p>\n",
       "</div>"
      ],
      "text/plain": [
       "      city  wind_speed_10m_max_5d_std_mean  wind_speed_10m_max_5d_std_std  \\\n",
       "0    Beyla                        0.646834                       0.696144   \n",
       "1    Boffa                        0.639281                       0.677063   \n",
       "2     Boké                        0.492362                       0.666224   \n",
       "3  Conakry                        0.678548                       0.672018   \n",
       "4    Coyah                        0.678802                       0.698380   \n",
       "\n",
       "   precipitation_sum_5d_std_mean  precipitation_sum_5d_std_std  \\\n",
       "0                       5.698369                      8.932159   \n",
       "1                       5.676999                      8.749712   \n",
       "2                       4.258942                      8.032152   \n",
       "3                       6.342908                      9.161623   \n",
       "4                       6.345200                      9.245745   \n",
       "\n",
       "   temperature_2m_min_5d_std_mean  temperature_2m_min_5d_std_std  \\\n",
       "0                        0.904246                       1.072798   \n",
       "1                        0.916923                       1.056893   \n",
       "2                        0.707142                       1.040307   \n",
       "3                        1.049100                       1.129376   \n",
       "4                        1.022975                       1.146093   \n",
       "\n",
       "   temperature_2m_max_mean  temperature_2m_max_std  wind_speed_10m_max_mean  \\\n",
       "0                29.676474                2.851285                 4.746825   \n",
       "1                29.368693                2.715274                 4.423235   \n",
       "2                28.919834                2.889850                 4.039173   \n",
       "3                30.762072                2.791775                 5.782541   \n",
       "4                30.807930                2.820383                 5.926860   \n",
       "\n",
       "   ...  temperature_2m_max_5d_std_std  occurrence_id_mean  occurrence_id_std  \\\n",
       "0  ...                       0.696316         4028.445303        3192.580748   \n",
       "1  ...                       0.656997         5205.061152        3228.529669   \n",
       "2  ...                       0.673583         5296.355891        3175.567187   \n",
       "3  ...                       0.689901         3956.057589        2640.150173   \n",
       "4  ...                       0.690932         5890.461161        2688.489044   \n",
       "\n",
       "   longitude_mean  longitude_std  arbovirus_bool_mean  arbovirus_bool_sum  \\\n",
       "0         -8.6333            0.0             0.148019              1188.0   \n",
       "1        -14.0430            0.0             0.144475              1212.0   \n",
       "2        -14.3000            0.0             0.200135              2079.0   \n",
       "3        -13.7122            0.0             0.036748               268.0   \n",
       "4        -13.3769            0.0             0.063529               440.0   \n",
       "\n",
       "   arbovirus_bool_count  risk_score  risk_category  \n",
       "0                  8026   35.272391            Low  \n",
       "1                  8389   34.507764            Low  \n",
       "2                 10388    0.000000            Low  \n",
       "3                  7293   40.142746            Low  \n",
       "4                  6926   56.514107         Medium  \n",
       "\n",
       "[5 rows x 26 columns]"
      ]
     },
     "execution_count": 8,
     "metadata": {},
     "output_type": "execute_result"
    }
   ],
   "source": [
    "city_risks.head()"
   ]
  },
  {
   "cell_type": "code",
   "execution_count": 9,
   "metadata": {},
   "outputs": [
    {
     "data": {
      "text/plain": [
       "{'summary_statistics': {'total_cities': 34,\n",
       "  'mean_risk_score': 61.00252311672592,\n",
       "  'median_risk_score': 60.265801212501714,\n",
       "  'std_risk_score': 22.579863941909355},\n",
       " 'risk_distribution': {'by_level': {'Low': 12, 'Medium': 11, 'High': 11},\n",
       "  'cities_by_risk_level': {'Low': ['Beyla',\n",
       "    'Boffa',\n",
       "    'Boké',\n",
       "    'Conakry',\n",
       "    'Dalaba',\n",
       "    'Dubréka',\n",
       "    'Fria',\n",
       "    'Gaoual',\n",
       "    'Koubia',\n",
       "    'Kérouané',\n",
       "    'Lola',\n",
       "    'Mandiana'],\n",
       "   'Medium': ['Coyah',\n",
       "    'Kindia',\n",
       "    'Koundara',\n",
       "    'Labé',\n",
       "    'Lélouma',\n",
       "    'Macenta',\n",
       "    'Mamou',\n",
       "    'Pita',\n",
       "    'Tougué',\n",
       "    'Télimélé',\n",
       "    'Yomou'],\n",
       "   'High': ['Dabola',\n",
       "    'Dinguiraye',\n",
       "    'Faranah',\n",
       "    'Forécariah',\n",
       "    'Guéckédou',\n",
       "    'Kankan',\n",
       "    'Kissidougou',\n",
       "    'Kouroussa',\n",
       "    'Mali',\n",
       "    'N’Zérékoré',\n",
       "    'Siguiri']}},\n",
       " 'feature_importance': {'top_features': {'wind_speed_10m_max_5d_std': 0.8077841474923317,\n",
       "   'precipitation_sum_5d_std': 0.7307272036255255,\n",
       "   'temperature_2m_min_5d_std': 0.6902466251814753,\n",
       "   'temperature_2m_max': 0.6582413555638077,\n",
       "   'wind_speed_10m_max': 0.6577110673712538,\n",
       "   'precipitation_sum': 0.6470092715253231,\n",
       "   'temperature_2m_min': 0.6465224105498324,\n",
       "   'temperature_2m_max_5d_std': 0.6463504056399539,\n",
       "   'occurrence_id': 0.5874979807029068,\n",
       "   'longitude': 0.2601495839409921},\n",
       "  'average_importance': 0.347246863574779},\n",
       " 'temporal_analysis': {'monthly_trend': {Timestamp('2018-12-31 00:00:00'): 0.55,\n",
       "   Timestamp('2019-01-31 00:00:00'): 0.1587992168805743,\n",
       "   Timestamp('2019-02-28 00:00:00'): 0.16807450725579381,\n",
       "   Timestamp('2019-03-31 00:00:00'): 0.0926517571884984,\n",
       "   Timestamp('2019-04-30 00:00:00'): 0.0,\n",
       "   Timestamp('2019-05-31 00:00:00'): 0.22879722436391672,\n",
       "   Timestamp('2019-06-30 00:00:00'): 0.3266297745984613,\n",
       "   Timestamp('2019-07-31 00:00:00'): 0.07917570498915401,\n",
       "   Timestamp('2019-08-31 00:00:00'): 0.0,\n",
       "   Timestamp('2019-09-30 00:00:00'): 0.14645974781765275,\n",
       "   Timestamp('2019-10-31 00:00:00'): 0.12800769971126083,\n",
       "   Timestamp('2019-11-30 00:00:00'): 0.03589420654911839,\n",
       "   Timestamp('2019-12-31 00:00:00'): 0.13913889564582826,\n",
       "   Timestamp('2020-01-31 00:00:00'): 0.16693944353518822,\n",
       "   Timestamp('2020-02-29 00:00:00'): 0.10521555622550498,\n",
       "   Timestamp('2020-03-31 00:00:00'): 0.0,\n",
       "   Timestamp('2020-04-30 00:00:00'): 0.10887772194304858,\n",
       "   Timestamp('2020-05-31 00:00:00'): 0.0719087985969015,\n",
       "   Timestamp('2020-06-30 00:00:00'): 0.0,\n",
       "   Timestamp('2020-07-31 00:00:00'): 0.02993805918788713,\n",
       "   Timestamp('2020-08-31 00:00:00'): 0.17820247933884298,\n",
       "   Timestamp('2020-09-30 00:00:00'): 0.05892312902133424,\n",
       "   Timestamp('2020-10-31 00:00:00'): 0.0,\n",
       "   Timestamp('2020-11-30 00:00:00'): 0.0,\n",
       "   Timestamp('2020-12-31 00:00:00'): 0.033425223983459686,\n",
       "   Timestamp('2021-01-31 00:00:00'): 0.1321701199563795,\n",
       "   Timestamp('2021-02-28 00:00:00'): 0.0,\n",
       "   Timestamp('2021-03-31 00:00:00'): 0.0,\n",
       "   Timestamp('2021-04-30 00:00:00'): 0.0,\n",
       "   Timestamp('2021-05-31 00:00:00'): 0.07601351351351351,\n",
       "   Timestamp('2021-06-30 00:00:00'): 0.1179736294240111,\n",
       "   Timestamp('2021-07-31 00:00:00'): 0.19489120151371808,\n",
       "   Timestamp('2021-08-31 00:00:00'): 0.21247231214857726,\n",
       "   Timestamp('2021-09-30 00:00:00'): 0.023931623931623933,\n",
       "   Timestamp('2021-10-31 00:00:00'): 0.10929472209248015,\n",
       "   Timestamp('2021-11-30 00:00:00'): 0.12479593687647379,\n",
       "   Timestamp('2021-12-31 00:00:00'): 0.0425531914893617,\n",
       "   Timestamp('2022-01-31 00:00:00'): 0.057466260339573354,\n",
       "   Timestamp('2022-02-28 00:00:00'): 0.1531256806795905,\n",
       "   Timestamp('2022-03-31 00:00:00'): 0.09655172413793103,\n",
       "   Timestamp('2022-04-30 00:00:00'): 0.14122327200397813,\n",
       "   Timestamp('2022-05-31 00:00:00'): 0.18766290182450043,\n",
       "   Timestamp('2022-06-30 00:00:00'): 0.14705882352941177,\n",
       "   Timestamp('2022-07-31 00:00:00'): 0.18599129402453501,\n",
       "   Timestamp('2022-08-31 00:00:00'): 0.01288659793814433,\n",
       "   Timestamp('2022-09-30 00:00:00'): 0.0,\n",
       "   Timestamp('2022-10-31 00:00:00'): 0.05439076268611364,\n",
       "   Timestamp('2022-11-30 00:00:00'): 0.22692533803644915,\n",
       "   Timestamp('2022-12-31 00:00:00'): 0.11515641855447681,\n",
       "   Timestamp('2023-01-31 00:00:00'): 0.04097924427887174,\n",
       "   Timestamp('2023-02-28 00:00:00'): 0.022277227722772276,\n",
       "   Timestamp('2023-03-31 00:00:00'): 0.010975227343994982,\n",
       "   Timestamp('2023-04-30 00:00:00'): 0.04238292827504446,\n",
       "   Timestamp('2023-05-31 00:00:00'): 0.00754242614707731,\n",
       "   Timestamp('2023-06-30 00:00:00'): 0.0,\n",
       "   Timestamp('2023-07-31 00:00:00'): 0.09484536082474226,\n",
       "   Timestamp('2023-08-31 00:00:00'): 0.22876304023845007,\n",
       "   Timestamp('2023-09-30 00:00:00'): 0.16512059369202226,\n",
       "   Timestamp('2023-10-31 00:00:00'): 0.0,\n",
       "   Timestamp('2023-11-30 00:00:00'): 0.0,\n",
       "   Timestamp('2023-12-31 00:00:00'): 0.0},\n",
       "  'peak_month': Timestamp('2018-12-31 00:00:00'),\n",
       "  'lowest_month': Timestamp('2019-04-30 00:00:00')}}"
      ]
     },
     "execution_count": 9,
     "metadata": {},
     "output_type": "execute_result"
    }
   ],
   "source": [
    "risk_report = risk.generate_risk_report()\n",
    "risk_report"
   ]
  },
  {
   "cell_type": "code",
   "execution_count": 11,
   "metadata": {},
   "outputs": [],
   "source": [
    "cities_info = load_csv('data/cities_info.csv')\n",
    "\n",
    "# Merge datasets on the 'city' column\n",
    "risk_df = pd.merge(city_risks, cities_info[['city', 'latitude', 'longitude']], on='city', how='left')"
   ]
  },
  {
   "cell_type": "code",
   "execution_count": 12,
   "metadata": {},
   "outputs": [],
   "source": [
    "from src.visualization.risk_viz import create_folium_risk_map, create_interactive_risk_choropleth, risk_correlations, weather_impact_analysis"
   ]
  },
  {
   "cell_type": "code",
   "execution_count": 13,
   "metadata": {},
   "outputs": [
    {
     "data": {
      "image/png": "[encoded data removed]",
      "text/plain": [
       "<Figure size 1000x600 with 1 Axes>"
      ]
     },
     "metadata": {},
     "output_type": "display_data"
    }
   ],
   "source": [
    "top_features = risk.feature_importances['top_features']\n",
    "\n",
    "# Create plot\n",
    "plt.figure(figsize=(10, 6))\n",
    "plt.bar(top_features.keys(), top_features.values())\n",
    "plt.title('Top Features Importance for Epidemic Risk')\n",
    "plt.xlabel('Features')\n",
    "plt.ylabel('Importance Score')\n",
    "plt.xticks(rotation=45, ha='right')\n",
    "plt.tight_layout()"
   ]
  },
  {
   "cell_type": "code",
   "execution_count": 14,
   "metadata": {},
   "outputs": [
    {
     "data": {
      "text/html": [
       "<div style=\"width:100%;\"><div style=\"position:relative;width:100%;height:0;padding-bottom:60%;\"><span style=\"color:#565656\">Make this Notebook Trusted to load map: File -> Trust Notebook</span><iframe srcdoc=\"&lt;!DOCTYPE html&gt;\n",
       "&lt;html&gt;\n",
       "&lt;head&gt;\n",
       "    \n",
       "    &lt;meta http-equiv=&quot;content-type&quot; content=&quot;text/html; charset=UTF-8&quot; /&gt;\n",
       "    \n",
       "        &lt;script&gt;\n",
       "            L_NO_TOUCH = false;\n",
       "            L_DISABLE_3D = false;\n",
       "        &lt;/script&gt;\n",
       "    \n",
       "    &lt;style&gt;html, body {width: 100%;height: 100%;margin: 0;padding: 0;}&lt;/style&gt;\n",
       "    &lt;style&gt;#map {position:absolute;top:0;bottom:0;right:0;left:0;}&lt;/style&gt;\n",
       "    &lt;script src=&quot;https://cdn.jsdelivr.net/npm/leaflet@1.9.3/dist/leaflet.js&quot;&gt;&lt;/script&gt;\n",
       "    &lt;script src=&quot;https://code.jquery.com/jquery-3.7.1.min.js&quot;&gt;&lt;/script&gt;\n",
       "    &lt;script src=&quot;https://cdn.jsdelivr.net/npm/bootstrap@5.2.2/dist/js/bootstrap.bundle.min.js&quot;&gt;&lt;/script&gt;\n",
       "    &lt;script src=&quot;https://cdnjs.cloudflare.com/ajax/libs/Leaflet.awesome-markers/2.0.2/leaflet.awesome-markers.js&quot;&gt;&lt;/script&gt;\n",
       "    &lt;link rel=&quot;stylesheet&quot; href=&quot;https://cdn.jsdelivr.net/npm/leaflet@1.9.3/dist/leaflet.css&quot;/&gt;\n",
       "    &lt;link rel=&quot;stylesheet&quot; href=&quot;https://cdn.jsdelivr.net/npm/bootstrap@5.2.2/dist/css/bootstrap.min.css&quot;/&gt;\n",
       "    &lt;link rel=&quot;stylesheet&quot; href=&quot;https://netdna.bootstrapcdn.com/bootstrap/3.0.0/css/bootstrap-glyphicons.css&quot;/&gt;\n",
       "    &lt;link rel=&quot;stylesheet&quot; href=&quot;https://cdn.jsdelivr.net/npm/@fortawesome/fontawesome-free@6.2.0/css/all.min.css&quot;/&gt;\n",
       "    &lt;link rel=&quot;stylesheet&quot; href=&quot;https://cdnjs.cloudflare.com/ajax/libs/Leaflet.awesome-markers/2.0.2/leaflet.awesome-markers.css&quot;/&gt;\n",
       "    &lt;link rel=&quot;stylesheet&quot; href=&quot;https://cdn.jsdelivr.net/gh/python-visualization/folium/folium/templates/leaflet.awesome.rotate.min.css&quot;/&gt;\n",
       "    \n",
       "            &lt;meta name=&quot;viewport&quot; content=&quot;width=device-width,\n",
       "                initial-scale=1.0, maximum-scale=1.0, user-scalable=no&quot; /&gt;\n",
       "            &lt;style&gt;\n",
       "                #map_b0601cc0b33430d71bf6d99ad3c05928 {\n",
       "                    position: relative;\n",
       "                    width: 100.0%;\n",
       "                    height: 100.0%;\n",
       "                    left: 0.0%;\n",
       "                    top: 0.0%;\n",
       "                }\n",
       "                .leaflet-container { font-size: 1rem; }\n",
       "            &lt;/style&gt;\n",
       "        \n",
       "    &lt;script src=&quot;https://cdnjs.cloudflare.com/ajax/libs/leaflet.markercluster/1.1.0/leaflet.markercluster.js&quot;&gt;&lt;/script&gt;\n",
       "    &lt;link rel=&quot;stylesheet&quot; href=&quot;https://cdnjs.cloudflare.com/ajax/libs/leaflet.markercluster/1.1.0/MarkerCluster.css&quot;/&gt;\n",
       "    &lt;link rel=&quot;stylesheet&quot; href=&quot;https://cdnjs.cloudflare.com/ajax/libs/leaflet.markercluster/1.1.0/MarkerCluster.Default.css&quot;/&gt;\n",
       "&lt;/head&gt;\n",
       "&lt;body&gt;\n",
       "    \n",
       "    \n",
       "            &lt;div class=&quot;folium-map&quot; id=&quot;map_b0601cc0b33430d71bf6d99ad3c05928&quot; &gt;&lt;/div&gt;\n",
       "        \n",
       "&lt;/body&gt;\n",
       "&lt;script&gt;\n",
       "    \n",
       "    \n",
       "            var map_b0601cc0b33430d71bf6d99ad3c05928 = L.map(\n",
       "                &quot;map_b0601cc0b33430d71bf6d99ad3c05928&quot;,\n",
       "                {\n",
       "                    center: [10.217720588235293, -11.45474705882353],\n",
       "                    crs: L.CRS.EPSG3857,\n",
       "                    zoom: 5,\n",
       "                    zoomControl: true,\n",
       "                    preferCanvas: false,\n",
       "                }\n",
       "            );\n",
       "\n",
       "            \n",
       "\n",
       "        \n",
       "    \n",
       "            var tile_layer_ea270f04f100175942da68b001b0a322 = L.tileLayer(\n",
       "                &quot;https://tile.openstreetmap.org/{z}/{x}/{y}.png&quot;,\n",
       "                {&quot;attribution&quot;: &quot;\\u0026copy; \\u003ca href=\\&quot;https://www.openstreetmap.org/copyright\\&quot;\\u003eOpenStreetMap\\u003c/a\\u003e contributors&quot;, &quot;detectRetina&quot;: false, &quot;maxNativeZoom&quot;: 19, &quot;maxZoom&quot;: 19, &quot;minZoom&quot;: 0, &quot;noWrap&quot;: false, &quot;opacity&quot;: 1, &quot;subdomains&quot;: &quot;abc&quot;, &quot;tms&quot;: false}\n",
       "            );\n",
       "        \n",
       "    \n",
       "            tile_layer_ea270f04f100175942da68b001b0a322.addTo(map_b0601cc0b33430d71bf6d99ad3c05928);\n",
       "        \n",
       "    \n",
       "            var marker_cluster_49d06a4f98a7e12b4056bc4d8f856073 = L.markerClusterGroup(\n",
       "                {}\n",
       "            );\n",
       "        \n",
       "    \n",
       "            var circle_marker_b681b69c2416ef185f0143af64500f73 = L.circleMarker(\n",
       "                [8.6833, -8.6333],\n",
       "                {&quot;bubblingMouseEvents&quot;: true, &quot;color&quot;: &quot;green&quot;, &quot;dashArray&quot;: null, &quot;dashOffset&quot;: null, &quot;fill&quot;: true, &quot;fillColor&quot;: &quot;green&quot;, &quot;fillOpacity&quot;: 0.7, &quot;fillRule&quot;: &quot;evenodd&quot;, &quot;lineCap&quot;: &quot;round&quot;, &quot;lineJoin&quot;: &quot;round&quot;, &quot;opacity&quot;: 1.0, &quot;radius&quot;: 8.531887017815873, &quot;stroke&quot;: true, &quot;weight&quot;: 3}\n",
       "            ).addTo(marker_cluster_49d06a4f98a7e12b4056bc4d8f856073);\n",
       "        \n",
       "    \n",
       "        var popup_9fa2a17281e676712574326de3ab1a57 = L.popup({&quot;maxWidth&quot;: &quot;100%&quot;});\n",
       "\n",
       "        \n",
       "            \n",
       "                var html_a2392c4c7352900fd95b39e7e764a1b5 = $(`&lt;div id=&quot;html_a2392c4c7352900fd95b39e7e764a1b5&quot; style=&quot;width: 100.0%; height: 100.0%;&quot;&gt;             City: Beyla             Risk Score: 35.32             Risk Category: Low             &lt;/div&gt;`)[0];\n",
       "                popup_9fa2a17281e676712574326de3ab1a57.setContent(html_a2392c4c7352900fd95b39e7e764a1b5);\n",
       "            \n",
       "        \n",
       "\n",
       "        circle_marker_b681b69c2416ef185f0143af64500f73.bindPopup(popup_9fa2a17281e676712574326de3ab1a57)\n",
       "        ;\n",
       "\n",
       "        \n",
       "    \n",
       "    \n",
       "            var circle_marker_9e7fcab51d7c6df6f84725e810006161 = L.circleMarker(\n",
       "                [10.185, -14.043],\n",
       "                {&quot;bubblingMouseEvents&quot;: true, &quot;color&quot;: &quot;green&quot;, &quot;dashArray&quot;: null, &quot;dashOffset&quot;: null, &quot;fill&quot;: true, &quot;fillColor&quot;: &quot;green&quot;, &quot;fillOpacity&quot;: 0.7, &quot;fillRule&quot;: &quot;evenodd&quot;, &quot;lineCap&quot;: &quot;round&quot;, &quot;lineJoin&quot;: &quot;round&quot;, &quot;opacity&quot;: 1.0, &quot;radius&quot;: 8.450783024656484, &quot;stroke&quot;: true, &quot;weight&quot;: 3}\n",
       "            ).addTo(marker_cluster_49d06a4f98a7e12b4056bc4d8f856073);\n",
       "        \n",
       "    \n",
       "        var popup_db081a35fcfbad584ae1e3cf34e3a1bc = L.popup({&quot;maxWidth&quot;: &quot;100%&quot;});\n",
       "\n",
       "        \n",
       "            \n",
       "                var html_0cf04cb53ab36502c9cbae3d7fee8a77 = $(`&lt;div id=&quot;html_0cf04cb53ab36502c9cbae3d7fee8a77&quot; style=&quot;width: 100.0%; height: 100.0%;&quot;&gt;             City: Boffa             Risk Score: 34.51             Risk Category: Low             &lt;/div&gt;`)[0];\n",
       "                popup_db081a35fcfbad584ae1e3cf34e3a1bc.setContent(html_0cf04cb53ab36502c9cbae3d7fee8a77);\n",
       "            \n",
       "        \n",
       "\n",
       "        circle_marker_9e7fcab51d7c6df6f84725e810006161.bindPopup(popup_db081a35fcfbad584ae1e3cf34e3a1bc)\n",
       "        ;\n",
       "\n",
       "        \n",
       "    \n",
       "    \n",
       "            var circle_marker_3378bda5fadda256530b9f37f83b3e15 = L.circleMarker(\n",
       "                [10.94, -14.3],\n",
       "                {&quot;bubblingMouseEvents&quot;: true, &quot;color&quot;: &quot;green&quot;, &quot;dashArray&quot;: null, &quot;dashOffset&quot;: null, &quot;fill&quot;: true, &quot;fillColor&quot;: &quot;green&quot;, &quot;fillOpacity&quot;: 0.7, &quot;fillRule&quot;: &quot;evenodd&quot;, &quot;lineCap&quot;: &quot;round&quot;, &quot;lineJoin&quot;: &quot;round&quot;, &quot;opacity&quot;: 1.0, &quot;radius&quot;: 5.0, &quot;stroke&quot;: true, &quot;weight&quot;: 3}\n",
       "            ).addTo(marker_cluster_49d06a4f98a7e12b4056bc4d8f856073);\n",
       "        \n",
       "    \n",
       "        var popup_60d6d525913a2d5c14cea7f0d80d06a1 = L.popup({&quot;maxWidth&quot;: &quot;100%&quot;});\n",
       "\n",
       "        \n",
       "            \n",
       "                var html_72c7c90ce765dd38b23dff99601e9866 = $(`&lt;div id=&quot;html_72c7c90ce765dd38b23dff99601e9866&quot; style=&quot;width: 100.0%; height: 100.0%;&quot;&gt;             City: Boké             Risk Score: 0.00             Risk Category: Low             &lt;/div&gt;`)[0];\n",
       "                popup_60d6d525913a2d5c14cea7f0d80d06a1.setContent(html_72c7c90ce765dd38b23dff99601e9866);\n",
       "            \n",
       "        \n",
       "\n",
       "        circle_marker_3378bda5fadda256530b9f37f83b3e15.bindPopup(popup_60d6d525913a2d5c14cea7f0d80d06a1)\n",
       "        ;\n",
       "\n",
       "        \n",
       "    \n",
       "    \n",
       "            var circle_marker_6b915ebf5dfbe3af74e19a4e248a2bb0 = L.circleMarker(\n",
       "                [9.5092, -13.7122],\n",
       "                {&quot;bubblingMouseEvents&quot;: true, &quot;color&quot;: &quot;green&quot;, &quot;dashArray&quot;: null, &quot;dashOffset&quot;: null, &quot;fill&quot;: true, &quot;fillColor&quot;: &quot;green&quot;, &quot;fillOpacity&quot;: 0.7, &quot;fillRule&quot;: &quot;evenodd&quot;, &quot;lineCap&quot;: &quot;round&quot;, &quot;lineJoin&quot;: &quot;round&quot;, &quot;opacity&quot;: 1.0, &quot;radius&quot;: 9.023957438975936, &quot;stroke&quot;: true, &quot;weight&quot;: 3}\n",
       "            ).addTo(marker_cluster_49d06a4f98a7e12b4056bc4d8f856073);\n",
       "        \n",
       "    \n",
       "        var popup_289d832552de1857a4e91ba619c6e7c7 = L.popup({&quot;maxWidth&quot;: &quot;100%&quot;});\n",
       "\n",
       "        \n",
       "            \n",
       "                var html_e73a3e01b0cb3d379922dd5e272d7ba9 = $(`&lt;div id=&quot;html_e73a3e01b0cb3d379922dd5e272d7ba9&quot; style=&quot;width: 100.0%; height: 100.0%;&quot;&gt;             City: Conakry             Risk Score: 40.24             Risk Category: Low             &lt;/div&gt;`)[0];\n",
       "                popup_289d832552de1857a4e91ba619c6e7c7.setContent(html_e73a3e01b0cb3d379922dd5e272d7ba9);\n",
       "            \n",
       "        \n",
       "\n",
       "        circle_marker_6b915ebf5dfbe3af74e19a4e248a2bb0.bindPopup(popup_289d832552de1857a4e91ba619c6e7c7)\n",
       "        ;\n",
       "\n",
       "        \n",
       "    \n",
       "    \n",
       "            var circle_marker_b33d600da9027d8685cd3a9d160534bc = L.circleMarker(\n",
       "                [9.7056, -13.3769],\n",
       "                {&quot;bubblingMouseEvents&quot;: true, &quot;color&quot;: &quot;orange&quot;, &quot;dashArray&quot;: null, &quot;dashOffset&quot;: null, &quot;fill&quot;: true, &quot;fillColor&quot;: &quot;orange&quot;, &quot;fillOpacity&quot;: 0.7, &quot;fillRule&quot;: &quot;evenodd&quot;, &quot;lineCap&quot;: &quot;round&quot;, &quot;lineJoin&quot;: &quot;round&quot;, &quot;opacity&quot;: 1.0, &quot;radius&quot;: 10.654819127342282, &quot;stroke&quot;: true, &quot;weight&quot;: 3}\n",
       "            ).addTo(marker_cluster_49d06a4f98a7e12b4056bc4d8f856073);\n",
       "        \n",
       "    \n",
       "        var popup_a83d20e769a51413e0d85e8e9748786a = L.popup({&quot;maxWidth&quot;: &quot;100%&quot;});\n",
       "\n",
       "        \n",
       "            \n",
       "                var html_6ac10c92f32cb7f75eab1b26537f3f52 = $(`&lt;div id=&quot;html_6ac10c92f32cb7f75eab1b26537f3f52&quot; style=&quot;width: 100.0%; height: 100.0%;&quot;&gt;             City: Coyah             Risk Score: 56.55             Risk Category: Medium             &lt;/div&gt;`)[0];\n",
       "                popup_a83d20e769a51413e0d85e8e9748786a.setContent(html_6ac10c92f32cb7f75eab1b26537f3f52);\n",
       "            \n",
       "        \n",
       "\n",
       "        circle_marker_b33d600da9027d8685cd3a9d160534bc.bindPopup(popup_a83d20e769a51413e0d85e8e9748786a)\n",
       "        ;\n",
       "\n",
       "        \n",
       "    \n",
       "    \n",
       "            var circle_marker_32c37dd010ade938fcd2ab1dd77d3efd = L.circleMarker(\n",
       "                [10.75, -11.1167],\n",
       "                {&quot;bubblingMouseEvents&quot;: true, &quot;color&quot;: &quot;red&quot;, &quot;dashArray&quot;: null, &quot;dashOffset&quot;: null, &quot;fill&quot;: true, &quot;fillColor&quot;: &quot;red&quot;, &quot;fillOpacity&quot;: 0.7, &quot;fillRule&quot;: &quot;evenodd&quot;, &quot;lineCap&quot;: &quot;round&quot;, &quot;lineJoin&quot;: &quot;round&quot;, &quot;opacity&quot;: 1.0, &quot;radius&quot;: 13.219591399056515, &quot;stroke&quot;: true, &quot;weight&quot;: 3}\n",
       "            ).addTo(marker_cluster_49d06a4f98a7e12b4056bc4d8f856073);\n",
       "        \n",
       "    \n",
       "        var popup_8197039e1eba68f52b9d02f9e9a1ac4c = L.popup({&quot;maxWidth&quot;: &quot;100%&quot;});\n",
       "\n",
       "        \n",
       "            \n",
       "                var html_30bccf1172918a7edf214a7bc7ba2eed = $(`&lt;div id=&quot;html_30bccf1172918a7edf214a7bc7ba2eed&quot; style=&quot;width: 100.0%; height: 100.0%;&quot;&gt;             City: Dabola             Risk Score: 82.20             Risk Category: High             &lt;/div&gt;`)[0];\n",
       "                popup_8197039e1eba68f52b9d02f9e9a1ac4c.setContent(html_30bccf1172918a7edf214a7bc7ba2eed);\n",
       "            \n",
       "        \n",
       "\n",
       "        circle_marker_32c37dd010ade938fcd2ab1dd77d3efd.bindPopup(popup_8197039e1eba68f52b9d02f9e9a1ac4c)\n",
       "        ;\n",
       "\n",
       "        \n",
       "    \n",
       "    \n",
       "            var circle_marker_45fadb72812463d075fb5a595818e94d = L.circleMarker(\n",
       "                [10.656, -12.272],\n",
       "                {&quot;bubblingMouseEvents&quot;: true, &quot;color&quot;: &quot;green&quot;, &quot;dashArray&quot;: null, &quot;dashOffset&quot;: null, &quot;fill&quot;: true, &quot;fillColor&quot;: &quot;green&quot;, &quot;fillOpacity&quot;: 0.7, &quot;fillRule&quot;: &quot;evenodd&quot;, &quot;lineCap&quot;: &quot;round&quot;, &quot;lineJoin&quot;: &quot;round&quot;, &quot;opacity&quot;: 1.0, &quot;radius&quot;: 9.663263311140554, &quot;stroke&quot;: true, &quot;weight&quot;: 3}\n",
       "            ).addTo(marker_cluster_49d06a4f98a7e12b4056bc4d8f856073);\n",
       "        \n",
       "    \n",
       "        var popup_0cbc973cae6692deaccc3af816f603a5 = L.popup({&quot;maxWidth&quot;: &quot;100%&quot;});\n",
       "\n",
       "        \n",
       "            \n",
       "                var html_f197bb22db9b355401d1c99d2d70c727 = $(`&lt;div id=&quot;html_f197bb22db9b355401d1c99d2d70c727&quot; style=&quot;width: 100.0%; height: 100.0%;&quot;&gt;             City: Dalaba             Risk Score: 46.63             Risk Category: Low             &lt;/div&gt;`)[0];\n",
       "                popup_0cbc973cae6692deaccc3af816f603a5.setContent(html_f197bb22db9b355401d1c99d2d70c727);\n",
       "            \n",
       "        \n",
       "\n",
       "        circle_marker_45fadb72812463d075fb5a595818e94d.bindPopup(popup_0cbc973cae6692deaccc3af816f603a5)\n",
       "        ;\n",
       "\n",
       "        \n",
       "    \n",
       "    \n",
       "            var circle_marker_7e65c4da3192bc4a4d9fc8a39d8b5191 = L.circleMarker(\n",
       "                [11.299, -10.726],\n",
       "                {&quot;bubblingMouseEvents&quot;: true, &quot;color&quot;: &quot;red&quot;, &quot;dashArray&quot;: null, &quot;dashOffset&quot;: null, &quot;fill&quot;: true, &quot;fillColor&quot;: &quot;red&quot;, &quot;fillOpacity&quot;: 0.7, &quot;fillRule&quot;: &quot;evenodd&quot;, &quot;lineCap&quot;: &quot;round&quot;, &quot;lineJoin&quot;: &quot;round&quot;, &quot;opacity&quot;: 1.0, &quot;radius&quot;: 14.67393082896117, &quot;stroke&quot;: true, &quot;weight&quot;: 3}\n",
       "            ).addTo(marker_cluster_49d06a4f98a7e12b4056bc4d8f856073);\n",
       "        \n",
       "    \n",
       "        var popup_c0b4698a421f3e446f3e6a439a045ec5 = L.popup({&quot;maxWidth&quot;: &quot;100%&quot;});\n",
       "\n",
       "        \n",
       "            \n",
       "                var html_aa62261208243e3f3bc121d759fcfd64 = $(`&lt;div id=&quot;html_aa62261208243e3f3bc121d759fcfd64&quot; style=&quot;width: 100.0%; height: 100.0%;&quot;&gt;             City: Dinguiraye             Risk Score: 96.74             Risk Category: High             &lt;/div&gt;`)[0];\n",
       "                popup_c0b4698a421f3e446f3e6a439a045ec5.setContent(html_aa62261208243e3f3bc121d759fcfd64);\n",
       "            \n",
       "        \n",
       "\n",
       "        circle_marker_7e65c4da3192bc4a4d9fc8a39d8b5191.bindPopup(popup_c0b4698a421f3e446f3e6a439a045ec5)\n",
       "        ;\n",
       "\n",
       "        \n",
       "    \n",
       "    \n",
       "            var circle_marker_82ec2b21614dcef5aa96f535c2d294e3 = L.circleMarker(\n",
       "                [9.7911, -13.5233],\n",
       "                {&quot;bubblingMouseEvents&quot;: true, &quot;color&quot;: &quot;green&quot;, &quot;dashArray&quot;: null, &quot;dashOffset&quot;: null, &quot;fill&quot;: true, &quot;fillColor&quot;: &quot;green&quot;, &quot;fillOpacity&quot;: 0.7, &quot;fillRule&quot;: &quot;evenodd&quot;, &quot;lineCap&quot;: &quot;round&quot;, &quot;lineJoin&quot;: &quot;round&quot;, &quot;opacity&quot;: 1.0, &quot;radius&quot;: 10.034085579746124, &quot;stroke&quot;: true, &quot;weight&quot;: 3}\n",
       "            ).addTo(marker_cluster_49d06a4f98a7e12b4056bc4d8f856073);\n",
       "        \n",
       "    \n",
       "        var popup_71008a6b00a32ae2db2261f031e77bc0 = L.popup({&quot;maxWidth&quot;: &quot;100%&quot;});\n",
       "\n",
       "        \n",
       "            \n",
       "                var html_e6f38404d161dbaedf7c167dc9882a1b = $(`&lt;div id=&quot;html_e6f38404d161dbaedf7c167dc9882a1b&quot; style=&quot;width: 100.0%; height: 100.0%;&quot;&gt;             City: Dubréka             Risk Score: 50.34             Risk Category: Low             &lt;/div&gt;`)[0];\n",
       "                popup_71008a6b00a32ae2db2261f031e77bc0.setContent(html_e6f38404d161dbaedf7c167dc9882a1b);\n",
       "            \n",
       "        \n",
       "\n",
       "        circle_marker_82ec2b21614dcef5aa96f535c2d294e3.bindPopup(popup_71008a6b00a32ae2db2261f031e77bc0)\n",
       "        ;\n",
       "\n",
       "        \n",
       "    \n",
       "    \n",
       "            var circle_marker_342ed83d8b51c44f1384d2285ed2bad7 = L.circleMarker(\n",
       "                [10.0333, -10.7333],\n",
       "                {&quot;bubblingMouseEvents&quot;: true, &quot;color&quot;: &quot;red&quot;, &quot;dashArray&quot;: null, &quot;dashOffset&quot;: null, &quot;fill&quot;: true, &quot;fillColor&quot;: &quot;red&quot;, &quot;fillOpacity&quot;: 0.7, &quot;fillRule&quot;: &quot;evenodd&quot;, &quot;lineCap&quot;: &quot;round&quot;, &quot;lineJoin&quot;: &quot;round&quot;, &quot;opacity&quot;: 1.0, &quot;radius&quot;: 15.0, &quot;stroke&quot;: true, &quot;weight&quot;: 3}\n",
       "            ).addTo(marker_cluster_49d06a4f98a7e12b4056bc4d8f856073);\n",
       "        \n",
       "    \n",
       "        var popup_7698680767d14f65d7e70227c68517b9 = L.popup({&quot;maxWidth&quot;: &quot;100%&quot;});\n",
       "\n",
       "        \n",
       "            \n",
       "                var html_80eb3620d5bb6e77643b595c7eaea2ba = $(`&lt;div id=&quot;html_80eb3620d5bb6e77643b595c7eaea2ba&quot; style=&quot;width: 100.0%; height: 100.0%;&quot;&gt;             City: Faranah             Risk Score: 100.00             Risk Category: High             &lt;/div&gt;`)[0];\n",
       "                popup_7698680767d14f65d7e70227c68517b9.setContent(html_80eb3620d5bb6e77643b595c7eaea2ba);\n",
       "            \n",
       "        \n",
       "\n",
       "        circle_marker_342ed83d8b51c44f1384d2285ed2bad7.bindPopup(popup_7698680767d14f65d7e70227c68517b9)\n",
       "        ;\n",
       "\n",
       "        \n",
       "    \n",
       "    \n",
       "            var circle_marker_cee743cb3348ae06cf2b54fc15ca2199 = L.circleMarker(\n",
       "                [9.43, -13.098],\n",
       "                {&quot;bubblingMouseEvents&quot;: true, &quot;color&quot;: &quot;red&quot;, &quot;dashArray&quot;: null, &quot;dashOffset&quot;: null, &quot;fill&quot;: true, &quot;fillColor&quot;: &quot;red&quot;, &quot;fillOpacity&quot;: 0.7, &quot;fillRule&quot;: &quot;evenodd&quot;, &quot;lineCap&quot;: &quot;round&quot;, &quot;lineJoin&quot;: &quot;round&quot;, &quot;opacity&quot;: 1.0, &quot;radius&quot;: 14.365671572795023, &quot;stroke&quot;: true, &quot;weight&quot;: 3}\n",
       "            ).addTo(marker_cluster_49d06a4f98a7e12b4056bc4d8f856073);\n",
       "        \n",
       "    \n",
       "        var popup_816a15fa9af9a2312a7d3a34b0257b10 = L.popup({&quot;maxWidth&quot;: &quot;100%&quot;});\n",
       "\n",
       "        \n",
       "            \n",
       "                var html_c89a4ab853110eb3dda369ba99e5b3f9 = $(`&lt;div id=&quot;html_c89a4ab853110eb3dda369ba99e5b3f9&quot; style=&quot;width: 100.0%; height: 100.0%;&quot;&gt;             City: Forécariah             Risk Score: 93.66             Risk Category: High             &lt;/div&gt;`)[0];\n",
       "                popup_816a15fa9af9a2312a7d3a34b0257b10.setContent(html_c89a4ab853110eb3dda369ba99e5b3f9);\n",
       "            \n",
       "        \n",
       "\n",
       "        circle_marker_cee743cb3348ae06cf2b54fc15ca2199.bindPopup(popup_816a15fa9af9a2312a7d3a34b0257b10)\n",
       "        ;\n",
       "\n",
       "        \n",
       "    \n",
       "    \n",
       "            var circle_marker_77bbb3095cc1f44e866923d829ac5a74 = L.circleMarker(\n",
       "                [10.3804, -13.55],\n",
       "                {&quot;bubblingMouseEvents&quot;: true, &quot;color&quot;: &quot;green&quot;, &quot;dashArray&quot;: null, &quot;dashOffset&quot;: null, &quot;fill&quot;: true, &quot;fillColor&quot;: &quot;green&quot;, &quot;fillOpacity&quot;: 0.7, &quot;fillRule&quot;: &quot;evenodd&quot;, &quot;lineCap&quot;: &quot;round&quot;, &quot;lineJoin&quot;: &quot;round&quot;, &quot;opacity&quot;: 1.0, &quot;radius&quot;: 9.424099563601946, &quot;stroke&quot;: true, &quot;weight&quot;: 3}\n",
       "            ).addTo(marker_cluster_49d06a4f98a7e12b4056bc4d8f856073);\n",
       "        \n",
       "    \n",
       "        var popup_3aa3b1dac301a38389c0728e4d8e71a7 = L.popup({&quot;maxWidth&quot;: &quot;100%&quot;});\n",
       "\n",
       "        \n",
       "            \n",
       "                var html_31f37f75a865fb4e3d944c9ba997ed9f = $(`&lt;div id=&quot;html_31f37f75a865fb4e3d944c9ba997ed9f&quot; style=&quot;width: 100.0%; height: 100.0%;&quot;&gt;             City: Fria             Risk Score: 44.24             Risk Category: Low             &lt;/div&gt;`)[0];\n",
       "                popup_3aa3b1dac301a38389c0728e4d8e71a7.setContent(html_31f37f75a865fb4e3d944c9ba997ed9f);\n",
       "            \n",
       "        \n",
       "\n",
       "        circle_marker_77bbb3095cc1f44e866923d829ac5a74.bindPopup(popup_3aa3b1dac301a38389c0728e4d8e71a7)\n",
       "        ;\n",
       "\n",
       "        \n",
       "    \n",
       "    \n",
       "            var circle_marker_6ceab149b7072653a59b4c75ae3a6973 = L.circleMarker(\n",
       "                [11.754, -13.213],\n",
       "                {&quot;bubblingMouseEvents&quot;: true, &quot;color&quot;: &quot;green&quot;, &quot;dashArray&quot;: null, &quot;dashOffset&quot;: null, &quot;fill&quot;: true, &quot;fillColor&quot;: &quot;green&quot;, &quot;fillOpacity&quot;: 0.7, &quot;fillRule&quot;: &quot;evenodd&quot;, &quot;lineCap&quot;: &quot;round&quot;, &quot;lineJoin&quot;: &quot;round&quot;, &quot;opacity&quot;: 1.0, &quot;radius&quot;: 8.148165221983923, &quot;stroke&quot;: true, &quot;weight&quot;: 3}\n",
       "            ).addTo(marker_cluster_49d06a4f98a7e12b4056bc4d8f856073);\n",
       "        \n",
       "    \n",
       "        var popup_014ddf858bc9a5c22130643551134778 = L.popup({&quot;maxWidth&quot;: &quot;100%&quot;});\n",
       "\n",
       "        \n",
       "            \n",
       "                var html_d5bbcb051043186a8902072c9af4f08b = $(`&lt;div id=&quot;html_d5bbcb051043186a8902072c9af4f08b&quot; style=&quot;width: 100.0%; height: 100.0%;&quot;&gt;             City: Gaoual             Risk Score: 31.48             Risk Category: Low             &lt;/div&gt;`)[0];\n",
       "                popup_014ddf858bc9a5c22130643551134778.setContent(html_d5bbcb051043186a8902072c9af4f08b);\n",
       "            \n",
       "        \n",
       "\n",
       "        circle_marker_6ceab149b7072653a59b4c75ae3a6973.bindPopup(popup_014ddf858bc9a5c22130643551134778)\n",
       "        ;\n",
       "\n",
       "        \n",
       "    \n",
       "    \n",
       "            var circle_marker_880bf5b6baad84e7af2e6291567ddad0 = L.circleMarker(\n",
       "                [8.5667, -10.1333],\n",
       "                {&quot;bubblingMouseEvents&quot;: true, &quot;color&quot;: &quot;red&quot;, &quot;dashArray&quot;: null, &quot;dashOffset&quot;: null, &quot;fill&quot;: true, &quot;fillColor&quot;: &quot;red&quot;, &quot;fillOpacity&quot;: 0.7, &quot;fillRule&quot;: &quot;evenodd&quot;, &quot;lineCap&quot;: &quot;round&quot;, &quot;lineJoin&quot;: &quot;round&quot;, &quot;opacity&quot;: 1.0, &quot;radius&quot;: 12.373919140749999, &quot;stroke&quot;: true, &quot;weight&quot;: 3}\n",
       "            ).addTo(marker_cluster_49d06a4f98a7e12b4056bc4d8f856073);\n",
       "        \n",
       "    \n",
       "        var popup_bf3e819d2f3d1a571e7fdf6b3ca1e30c = L.popup({&quot;maxWidth&quot;: &quot;100%&quot;});\n",
       "\n",
       "        \n",
       "            \n",
       "                var html_d132fb820d7a23548637c7f77e5d4316 = $(`&lt;div id=&quot;html_d132fb820d7a23548637c7f77e5d4316&quot; style=&quot;width: 100.0%; height: 100.0%;&quot;&gt;             City: Guéckédou             Risk Score: 73.74             Risk Category: High             &lt;/div&gt;`)[0];\n",
       "                popup_bf3e819d2f3d1a571e7fdf6b3ca1e30c.setContent(html_d132fb820d7a23548637c7f77e5d4316);\n",
       "            \n",
       "        \n",
       "\n",
       "        circle_marker_880bf5b6baad84e7af2e6291567ddad0.bindPopup(popup_bf3e819d2f3d1a571e7fdf6b3ca1e30c)\n",
       "        ;\n",
       "\n",
       "        \n",
       "    \n",
       "    \n",
       "            var circle_marker_384379a94003791ecbdfe61887a43bcb = L.circleMarker(\n",
       "                [10.3833, -9.3],\n",
       "                {&quot;bubblingMouseEvents&quot;: true, &quot;color&quot;: &quot;red&quot;, &quot;dashArray&quot;: null, &quot;dashOffset&quot;: null, &quot;fill&quot;: true, &quot;fillColor&quot;: &quot;red&quot;, &quot;fillOpacity&quot;: 0.7, &quot;fillRule&quot;: &quot;evenodd&quot;, &quot;lineCap&quot;: &quot;round&quot;, &quot;lineJoin&quot;: &quot;round&quot;, &quot;opacity&quot;: 1.0, &quot;radius&quot;: 12.181261988930709, &quot;stroke&quot;: true, &quot;weight&quot;: 3}\n",
       "            ).addTo(marker_cluster_49d06a4f98a7e12b4056bc4d8f856073);\n",
       "        \n",
       "    \n",
       "        var popup_a43eeebcd3fd5d5a5486b12d4b82e27e = L.popup({&quot;maxWidth&quot;: &quot;100%&quot;});\n",
       "\n",
       "        \n",
       "            \n",
       "                var html_ef67cb307a241d7c2aa5f05934d8dad2 = $(`&lt;div id=&quot;html_ef67cb307a241d7c2aa5f05934d8dad2&quot; style=&quot;width: 100.0%; height: 100.0%;&quot;&gt;             City: Kankan             Risk Score: 71.81             Risk Category: High             &lt;/div&gt;`)[0];\n",
       "                popup_a43eeebcd3fd5d5a5486b12d4b82e27e.setContent(html_ef67cb307a241d7c2aa5f05934d8dad2);\n",
       "            \n",
       "        \n",
       "\n",
       "        circle_marker_384379a94003791ecbdfe61887a43bcb.bindPopup(popup_a43eeebcd3fd5d5a5486b12d4b82e27e)\n",
       "        ;\n",
       "\n",
       "        \n",
       "    \n",
       "    \n",
       "            var circle_marker_60daca128e7324334da6099f32d2d567 = L.circleMarker(\n",
       "                [10.0497, -12.8542],\n",
       "                {&quot;bubblingMouseEvents&quot;: true, &quot;color&quot;: &quot;orange&quot;, &quot;dashArray&quot;: null, &quot;dashOffset&quot;: null, &quot;fill&quot;: true, &quot;fillColor&quot;: &quot;orange&quot;, &quot;fillOpacity&quot;: 0.7, &quot;fillRule&quot;: &quot;evenodd&quot;, &quot;lineCap&quot;: &quot;round&quot;, &quot;lineJoin&quot;: &quot;round&quot;, &quot;opacity&quot;: 1.0, &quot;radius&quot;: 11.686215134646819, &quot;stroke&quot;: true, &quot;weight&quot;: 3}\n",
       "            ).addTo(marker_cluster_49d06a4f98a7e12b4056bc4d8f856073);\n",
       "        \n",
       "    \n",
       "        var popup_4baadfecd85f01f41c044004df6748ea = L.popup({&quot;maxWidth&quot;: &quot;100%&quot;});\n",
       "\n",
       "        \n",
       "            \n",
       "                var html_461f839d094d710217e5e56b022c57ad = $(`&lt;div id=&quot;html_461f839d094d710217e5e56b022c57ad&quot; style=&quot;width: 100.0%; height: 100.0%;&quot;&gt;             City: Kindia             Risk Score: 66.86             Risk Category: Medium             &lt;/div&gt;`)[0];\n",
       "                popup_4baadfecd85f01f41c044004df6748ea.setContent(html_461f839d094d710217e5e56b022c57ad);\n",
       "            \n",
       "        \n",
       "\n",
       "        circle_marker_60daca128e7324334da6099f32d2d567.bindPopup(popup_4baadfecd85f01f41c044004df6748ea)\n",
       "        ;\n",
       "\n",
       "        \n",
       "    \n",
       "    \n",
       "            var circle_marker_52bc3c4a7a53ffaa6e90c663a5e24b9b = L.circleMarker(\n",
       "                [9.1905, -10.12],\n",
       "                {&quot;bubblingMouseEvents&quot;: true, &quot;color&quot;: &quot;red&quot;, &quot;dashArray&quot;: null, &quot;dashOffset&quot;: null, &quot;fill&quot;: true, &quot;fillColor&quot;: &quot;red&quot;, &quot;fillOpacity&quot;: 0.7, &quot;fillRule&quot;: &quot;evenodd&quot;, &quot;lineCap&quot;: &quot;round&quot;, &quot;lineJoin&quot;: &quot;round&quot;, &quot;opacity&quot;: 1.0, &quot;radius&quot;: 13.079464596407936, &quot;stroke&quot;: true, &quot;weight&quot;: 3}\n",
       "            ).addTo(marker_cluster_49d06a4f98a7e12b4056bc4d8f856073);\n",
       "        \n",
       "    \n",
       "        var popup_d17f1b7b2df947face0d1093aa8d1c71 = L.popup({&quot;maxWidth&quot;: &quot;100%&quot;});\n",
       "\n",
       "        \n",
       "            \n",
       "                var html_597872110bc2a64ecd569a0a34719cad = $(`&lt;div id=&quot;html_597872110bc2a64ecd569a0a34719cad&quot; style=&quot;width: 100.0%; height: 100.0%;&quot;&gt;             City: Kissidougou             Risk Score: 80.79             Risk Category: High             &lt;/div&gt;`)[0];\n",
       "                popup_d17f1b7b2df947face0d1093aa8d1c71.setContent(html_597872110bc2a64ecd569a0a34719cad);\n",
       "            \n",
       "        \n",
       "\n",
       "        circle_marker_52bc3c4a7a53ffaa6e90c663a5e24b9b.bindPopup(popup_d17f1b7b2df947face0d1093aa8d1c71)\n",
       "        ;\n",
       "\n",
       "        \n",
       "    \n",
       "    \n",
       "            var circle_marker_ab89cb2a9097cea68634cd7a4172e035 = L.circleMarker(\n",
       "                [11.5833, -11.9],\n",
       "                {&quot;bubblingMouseEvents&quot;: true, &quot;color&quot;: &quot;green&quot;, &quot;dashArray&quot;: null, &quot;dashOffset&quot;: null, &quot;fill&quot;: true, &quot;fillColor&quot;: &quot;green&quot;, &quot;fillOpacity&quot;: 0.7, &quot;fillRule&quot;: &quot;evenodd&quot;, &quot;lineCap&quot;: &quot;round&quot;, &quot;lineJoin&quot;: &quot;round&quot;, &quot;opacity&quot;: 1.0, &quot;radius&quot;: 9.715258158872258, &quot;stroke&quot;: true, &quot;weight&quot;: 3}\n",
       "            ).addTo(marker_cluster_49d06a4f98a7e12b4056bc4d8f856073);\n",
       "        \n",
       "    \n",
       "        var popup_0952cde3e11a78c0cf95153f1a7ebec0 = L.popup({&quot;maxWidth&quot;: &quot;100%&quot;});\n",
       "\n",
       "        \n",
       "            \n",
       "                var html_137581c6fb3125b2e06a8527a0785deb = $(`&lt;div id=&quot;html_137581c6fb3125b2e06a8527a0785deb&quot; style=&quot;width: 100.0%; height: 100.0%;&quot;&gt;             City: Koubia             Risk Score: 47.15             Risk Category: Low             &lt;/div&gt;`)[0];\n",
       "                popup_0952cde3e11a78c0cf95153f1a7ebec0.setContent(html_137581c6fb3125b2e06a8527a0785deb);\n",
       "            \n",
       "        \n",
       "\n",
       "        circle_marker_ab89cb2a9097cea68634cd7a4172e035.bindPopup(popup_0952cde3e11a78c0cf95153f1a7ebec0)\n",
       "        ;\n",
       "\n",
       "        \n",
       "    \n",
       "    \n",
       "            var circle_marker_3d29909cc8ff561613d06f47f24d88df = L.circleMarker(\n",
       "                [12.48, -13.296],\n",
       "                {&quot;bubblingMouseEvents&quot;: true, &quot;color&quot;: &quot;orange&quot;, &quot;dashArray&quot;: null, &quot;dashOffset&quot;: null, &quot;fill&quot;: true, &quot;fillColor&quot;: &quot;orange&quot;, &quot;fillOpacity&quot;: 0.7, &quot;fillRule&quot;: &quot;evenodd&quot;, &quot;lineCap&quot;: &quot;round&quot;, &quot;lineJoin&quot;: &quot;round&quot;, &quot;opacity&quot;: 1.0, &quot;radius&quot;: 12.17195166736046, &quot;stroke&quot;: true, &quot;weight&quot;: 3}\n",
       "            ).addTo(marker_cluster_49d06a4f98a7e12b4056bc4d8f856073);\n",
       "        \n",
       "    \n",
       "        var popup_ee473925938c10fd167dd3911ab52350 = L.popup({&quot;maxWidth&quot;: &quot;100%&quot;});\n",
       "\n",
       "        \n",
       "            \n",
       "                var html_d4bf7312bf12ccfae1f06cd2d35c6ec2 = $(`&lt;div id=&quot;html_d4bf7312bf12ccfae1f06cd2d35c6ec2&quot; style=&quot;width: 100.0%; height: 100.0%;&quot;&gt;             City: Koundara             Risk Score: 71.72             Risk Category: Medium             &lt;/div&gt;`)[0];\n",
       "                popup_ee473925938c10fd167dd3911ab52350.setContent(html_d4bf7312bf12ccfae1f06cd2d35c6ec2);\n",
       "            \n",
       "        \n",
       "\n",
       "        circle_marker_3d29909cc8ff561613d06f47f24d88df.bindPopup(popup_ee473925938c10fd167dd3911ab52350)\n",
       "        ;\n",
       "\n",
       "        \n",
       "    \n",
       "    \n",
       "            var circle_marker_6a8d51064e0420307d90ca62922a07b9 = L.circleMarker(\n",
       "                [10.653, -9.892],\n",
       "                {&quot;bubblingMouseEvents&quot;: true, &quot;color&quot;: &quot;red&quot;, &quot;dashArray&quot;: null, &quot;dashOffset&quot;: null, &quot;fill&quot;: true, &quot;fillColor&quot;: &quot;red&quot;, &quot;fillOpacity&quot;: 0.7, &quot;fillRule&quot;: &quot;evenodd&quot;, &quot;lineCap&quot;: &quot;round&quot;, &quot;lineJoin&quot;: &quot;round&quot;, &quot;opacity&quot;: 1.0, &quot;radius&quot;: 13.284052213011446, &quot;stroke&quot;: true, &quot;weight&quot;: 3}\n",
       "            ).addTo(marker_cluster_49d06a4f98a7e12b4056bc4d8f856073);\n",
       "        \n",
       "    \n",
       "        var popup_93a32bfd0f489e6d1d2e3f90c1bce596 = L.popup({&quot;maxWidth&quot;: &quot;100%&quot;});\n",
       "\n",
       "        \n",
       "            \n",
       "                var html_1fda042eec2f78764e9e44005f702c59 = $(`&lt;div id=&quot;html_1fda042eec2f78764e9e44005f702c59&quot; style=&quot;width: 100.0%; height: 100.0%;&quot;&gt;             City: Kouroussa             Risk Score: 82.84             Risk Category: High             &lt;/div&gt;`)[0];\n",
       "                popup_93a32bfd0f489e6d1d2e3f90c1bce596.setContent(html_1fda042eec2f78764e9e44005f702c59);\n",
       "            \n",
       "        \n",
       "\n",
       "        circle_marker_6a8d51064e0420307d90ca62922a07b9.bindPopup(popup_93a32bfd0f489e6d1d2e3f90c1bce596)\n",
       "        ;\n",
       "\n",
       "        \n",
       "    \n",
       "    \n",
       "            var circle_marker_984cee50cd71b2f5830aff8119a3f3ec = L.circleMarker(\n",
       "                [9.2704, -9.02],\n",
       "                {&quot;bubblingMouseEvents&quot;: true, &quot;color&quot;: &quot;green&quot;, &quot;dashArray&quot;: null, &quot;dashOffset&quot;: null, &quot;fill&quot;: true, &quot;fillColor&quot;: &quot;green&quot;, &quot;fillOpacity&quot;: 0.7, &quot;fillRule&quot;: &quot;evenodd&quot;, &quot;lineCap&quot;: &quot;round&quot;, &quot;lineJoin&quot;: &quot;round&quot;, &quot;opacity&quot;: 1.0, &quot;radius&quot;: 9.976070103079218, &quot;stroke&quot;: true, &quot;weight&quot;: 3}\n",
       "            ).addTo(marker_cluster_49d06a4f98a7e12b4056bc4d8f856073);\n",
       "        \n",
       "    \n",
       "        var popup_7a5bc098595a7e99675eda561fc9b3b5 = L.popup({&quot;maxWidth&quot;: &quot;100%&quot;});\n",
       "\n",
       "        \n",
       "            \n",
       "                var html_cf845d3f71b451f522455174b6338597 = $(`&lt;div id=&quot;html_cf845d3f71b451f522455174b6338597&quot; style=&quot;width: 100.0%; height: 100.0%;&quot;&gt;             City: Kérouané             Risk Score: 49.76             Risk Category: Low             &lt;/div&gt;`)[0];\n",
       "                popup_7a5bc098595a7e99675eda561fc9b3b5.setContent(html_cf845d3f71b451f522455174b6338597);\n",
       "            \n",
       "        \n",
       "\n",
       "        circle_marker_984cee50cd71b2f5830aff8119a3f3ec.bindPopup(popup_7a5bc098595a7e99675eda561fc9b3b5)\n",
       "        ;\n",
       "\n",
       "        \n",
       "    \n",
       "    \n",
       "            var circle_marker_47ad96b68fbe2d6f457c461d35c21501 = L.circleMarker(\n",
       "                [11.3167, -12.2833],\n",
       "                {&quot;bubblingMouseEvents&quot;: true, &quot;color&quot;: &quot;orange&quot;, &quot;dashArray&quot;: null, &quot;dashOffset&quot;: null, &quot;fill&quot;: true, &quot;fillColor&quot;: &quot;orange&quot;, &quot;fillOpacity&quot;: 0.7, &quot;fillRule&quot;: &quot;evenodd&quot;, &quot;lineCap&quot;: &quot;round&quot;, &quot;lineJoin&quot;: &quot;round&quot;, &quot;opacity&quot;: 1.0, &quot;radius&quot;: 10.793105223749606, &quot;stroke&quot;: true, &quot;weight&quot;: 3}\n",
       "            ).addTo(marker_cluster_49d06a4f98a7e12b4056bc4d8f856073);\n",
       "        \n",
       "    \n",
       "        var popup_c0a23316a40f285ba2760c8bc64c5d3d = L.popup({&quot;maxWidth&quot;: &quot;100%&quot;});\n",
       "\n",
       "        \n",
       "            \n",
       "                var html_06a40123336691c729b2903b2bd191e1 = $(`&lt;div id=&quot;html_06a40123336691c729b2903b2bd191e1&quot; style=&quot;width: 100.0%; height: 100.0%;&quot;&gt;             City: Labé             Risk Score: 57.93             Risk Category: Medium             &lt;/div&gt;`)[0];\n",
       "                popup_c0a23316a40f285ba2760c8bc64c5d3d.setContent(html_06a40123336691c729b2903b2bd191e1);\n",
       "            \n",
       "        \n",
       "\n",
       "        circle_marker_47ad96b68fbe2d6f457c461d35c21501.bindPopup(popup_c0a23316a40f285ba2760c8bc64c5d3d)\n",
       "        ;\n",
       "\n",
       "        \n",
       "    \n",
       "    \n",
       "            var circle_marker_4a6206398195b7881c092d66304b42b7 = L.circleMarker(\n",
       "                [7.8, -8.5333],\n",
       "                {&quot;bubblingMouseEvents&quot;: true, &quot;color&quot;: &quot;green&quot;, &quot;dashArray&quot;: null, &quot;dashOffset&quot;: null, &quot;fill&quot;: true, &quot;fillColor&quot;: &quot;green&quot;, &quot;fillOpacity&quot;: 0.7, &quot;fillRule&quot;: &quot;evenodd&quot;, &quot;lineCap&quot;: &quot;round&quot;, &quot;lineJoin&quot;: &quot;round&quot;, &quot;opacity&quot;: 1.0, &quot;radius&quot;: 9.776245026244506, &quot;stroke&quot;: true, &quot;weight&quot;: 3}\n",
       "            ).addTo(marker_cluster_49d06a4f98a7e12b4056bc4d8f856073);\n",
       "        \n",
       "    \n",
       "        var popup_69fdc2c2cf2ff843d7901ec2934bdf4a = L.popup({&quot;maxWidth&quot;: &quot;100%&quot;});\n",
       "\n",
       "        \n",
       "            \n",
       "                var html_cc51707325dd1bb65f3d06565b50f3b4 = $(`&lt;div id=&quot;html_cc51707325dd1bb65f3d06565b50f3b4&quot; style=&quot;width: 100.0%; height: 100.0%;&quot;&gt;             City: Lola             Risk Score: 47.76             Risk Category: Low             &lt;/div&gt;`)[0];\n",
       "                popup_69fdc2c2cf2ff843d7901ec2934bdf4a.setContent(html_cc51707325dd1bb65f3d06565b50f3b4);\n",
       "            \n",
       "        \n",
       "\n",
       "        circle_marker_4a6206398195b7881c092d66304b42b7.bindPopup(popup_69fdc2c2cf2ff843d7901ec2934bdf4a)\n",
       "        ;\n",
       "\n",
       "        \n",
       "    \n",
       "    \n",
       "            var circle_marker_641cef176d95efabafd14b19eeb9a4af = L.circleMarker(\n",
       "                [11.1833, -12.9333],\n",
       "                {&quot;bubblingMouseEvents&quot;: true, &quot;color&quot;: &quot;orange&quot;, &quot;dashArray&quot;: null, &quot;dashOffset&quot;: null, &quot;fill&quot;: true, &quot;fillColor&quot;: &quot;orange&quot;, &quot;fillOpacity&quot;: 0.7, &quot;fillRule&quot;: &quot;evenodd&quot;, &quot;lineCap&quot;: &quot;round&quot;, &quot;lineJoin&quot;: &quot;round&quot;, &quot;opacity&quot;: 1.0, &quot;radius&quot;: 10.25516826039506, &quot;stroke&quot;: true, &quot;weight&quot;: 3}\n",
       "            ).addTo(marker_cluster_49d06a4f98a7e12b4056bc4d8f856073);\n",
       "        \n",
       "    \n",
       "        var popup_edf6615edcb5c86ad3e4c4c548e68b8c = L.popup({&quot;maxWidth&quot;: &quot;100%&quot;});\n",
       "\n",
       "        \n",
       "            \n",
       "                var html_44ee04e3cdbeb42b9c9c1116f61ed041 = $(`&lt;div id=&quot;html_44ee04e3cdbeb42b9c9c1116f61ed041&quot; style=&quot;width: 100.0%; height: 100.0%;&quot;&gt;             City: Lélouma             Risk Score: 52.55             Risk Category: Medium             &lt;/div&gt;`)[0];\n",
       "                popup_edf6615edcb5c86ad3e4c4c548e68b8c.setContent(html_44ee04e3cdbeb42b9c9c1116f61ed041);\n",
       "            \n",
       "        \n",
       "\n",
       "        circle_marker_641cef176d95efabafd14b19eeb9a4af.bindPopup(popup_edf6615edcb5c86ad3e4c4c548e68b8c)\n",
       "        ;\n",
       "\n",
       "        \n",
       "    \n",
       "    \n",
       "            var circle_marker_4d36b8ad0c8e1ad398be64071d496222 = L.circleMarker(\n",
       "                [8.5504, -9.48],\n",
       "                {&quot;bubblingMouseEvents&quot;: true, &quot;color&quot;: &quot;orange&quot;, &quot;dashArray&quot;: null, &quot;dashOffset&quot;: null, &quot;fill&quot;: true, &quot;fillColor&quot;: &quot;orange&quot;, &quot;fillOpacity&quot;: 0.7, &quot;fillRule&quot;: &quot;evenodd&quot;, &quot;lineCap&quot;: &quot;round&quot;, &quot;lineJoin&quot;: &quot;round&quot;, &quot;opacity&quot;: 1.0, &quot;radius&quot;: 11.417398149710806, &quot;stroke&quot;: true, &quot;weight&quot;: 3}\n",
       "            ).addTo(marker_cluster_49d06a4f98a7e12b4056bc4d8f856073);\n",
       "        \n",
       "    \n",
       "        var popup_57705f606f9cfb16f4ca0729785bd188 = L.popup({&quot;maxWidth&quot;: &quot;100%&quot;});\n",
       "\n",
       "        \n",
       "            \n",
       "                var html_95b1351b207364b790eb4c8bc885f88a = $(`&lt;div id=&quot;html_95b1351b207364b790eb4c8bc885f88a&quot; style=&quot;width: 100.0%; height: 100.0%;&quot;&gt;             City: Macenta             Risk Score: 64.17             Risk Category: Medium             &lt;/div&gt;`)[0];\n",
       "                popup_57705f606f9cfb16f4ca0729785bd188.setContent(html_95b1351b207364b790eb4c8bc885f88a);\n",
       "            \n",
       "        \n",
       "\n",
       "        circle_marker_4d36b8ad0c8e1ad398be64071d496222.bindPopup(popup_57705f606f9cfb16f4ca0729785bd188)\n",
       "        ;\n",
       "\n",
       "        \n",
       "    \n",
       "    \n",
       "            var circle_marker_770f671f357d47002f3227d05f76af51 = L.circleMarker(\n",
       "                [12.084, -12.301],\n",
       "                {&quot;bubblingMouseEvents&quot;: true, &quot;color&quot;: &quot;red&quot;, &quot;dashArray&quot;: null, &quot;dashOffset&quot;: null, &quot;fill&quot;: true, &quot;fillColor&quot;: &quot;red&quot;, &quot;fillOpacity&quot;: 0.7, &quot;fillRule&quot;: &quot;evenodd&quot;, &quot;lineCap&quot;: &quot;round&quot;, &quot;lineJoin&quot;: &quot;round&quot;, &quot;opacity&quot;: 1.0, &quot;radius&quot;: 13.355772006842619, &quot;stroke&quot;: true, &quot;weight&quot;: 3}\n",
       "            ).addTo(marker_cluster_49d06a4f98a7e12b4056bc4d8f856073);\n",
       "        \n",
       "    \n",
       "        var popup_ec089aa9f1616c39e7ce05e397c88578 = L.popup({&quot;maxWidth&quot;: &quot;100%&quot;});\n",
       "\n",
       "        \n",
       "            \n",
       "                var html_caec21e860082738d3f024455c3c9196 = $(`&lt;div id=&quot;html_caec21e860082738d3f024455c3c9196&quot; style=&quot;width: 100.0%; height: 100.0%;&quot;&gt;             City: Mali             Risk Score: 83.56             Risk Category: High             &lt;/div&gt;`)[0];\n",
       "                popup_ec089aa9f1616c39e7ce05e397c88578.setContent(html_caec21e860082738d3f024455c3c9196);\n",
       "            \n",
       "        \n",
       "\n",
       "        circle_marker_770f671f357d47002f3227d05f76af51.bindPopup(popup_ec089aa9f1616c39e7ce05e397c88578)\n",
       "        ;\n",
       "\n",
       "        \n",
       "    \n",
       "    \n",
       "            var circle_marker_be2a4228d337cd2ddbe23e6b2f8f898e = L.circleMarker(\n",
       "                [10.3833, -12.0833],\n",
       "                {&quot;bubblingMouseEvents&quot;: true, &quot;color&quot;: &quot;orange&quot;, &quot;dashArray&quot;: null, &quot;dashOffset&quot;: null, &quot;fill&quot;: true, &quot;fillColor&quot;: &quot;orange&quot;, &quot;fillOpacity&quot;: 0.7, &quot;fillRule&quot;: &quot;evenodd&quot;, &quot;lineCap&quot;: &quot;round&quot;, &quot;lineJoin&quot;: &quot;round&quot;, &quot;opacity&quot;: 1.0, &quot;radius&quot;: 11.544382159182941, &quot;stroke&quot;: true, &quot;weight&quot;: 3}\n",
       "            ).addTo(marker_cluster_49d06a4f98a7e12b4056bc4d8f856073);\n",
       "        \n",
       "    \n",
       "        var popup_fcc1f80d81fc0b74ce8f0923a1296caf = L.popup({&quot;maxWidth&quot;: &quot;100%&quot;});\n",
       "\n",
       "        \n",
       "            \n",
       "                var html_cc8ef187e2398aef5358b5701f2c1d80 = $(`&lt;div id=&quot;html_cc8ef187e2398aef5358b5701f2c1d80&quot; style=&quot;width: 100.0%; height: 100.0%;&quot;&gt;             City: Mamou             Risk Score: 65.44             Risk Category: Medium             &lt;/div&gt;`)[0];\n",
       "                popup_fcc1f80d81fc0b74ce8f0923a1296caf.setContent(html_cc8ef187e2398aef5358b5701f2c1d80);\n",
       "            \n",
       "        \n",
       "\n",
       "        circle_marker_be2a4228d337cd2ddbe23e6b2f8f898e.bindPopup(popup_fcc1f80d81fc0b74ce8f0923a1296caf)\n",
       "        ;\n",
       "\n",
       "        \n",
       "    \n",
       "    \n",
       "            var circle_marker_18af878f3e9698668e2c3815e2b4549a = L.circleMarker(\n",
       "                [10.6333, -8.6833],\n",
       "                {&quot;bubblingMouseEvents&quot;: true, &quot;color&quot;: &quot;green&quot;, &quot;dashArray&quot;: null, &quot;dashOffset&quot;: null, &quot;fill&quot;: true, &quot;fillColor&quot;: &quot;green&quot;, &quot;fillOpacity&quot;: 0.7, &quot;fillRule&quot;: &quot;evenodd&quot;, &quot;lineCap&quot;: &quot;round&quot;, &quot;lineJoin&quot;: &quot;round&quot;, &quot;opacity&quot;: 1.0, &quot;radius&quot;: 7.589886724742621, &quot;stroke&quot;: true, &quot;weight&quot;: 3}\n",
       "            ).addTo(marker_cluster_49d06a4f98a7e12b4056bc4d8f856073);\n",
       "        \n",
       "    \n",
       "        var popup_34f55e8550cc1f0416fc623000afacd7 = L.popup({&quot;maxWidth&quot;: &quot;100%&quot;});\n",
       "\n",
       "        \n",
       "            \n",
       "                var html_d404538352439669ff884355f256b16f = $(`&lt;div id=&quot;html_d404538352439669ff884355f256b16f&quot; style=&quot;width: 100.0%; height: 100.0%;&quot;&gt;             City: Mandiana             Risk Score: 25.90             Risk Category: Low             &lt;/div&gt;`)[0];\n",
       "                popup_34f55e8550cc1f0416fc623000afacd7.setContent(html_d404538352439669ff884355f256b16f);\n",
       "            \n",
       "        \n",
       "\n",
       "        circle_marker_18af878f3e9698668e2c3815e2b4549a.bindPopup(popup_34f55e8550cc1f0416fc623000afacd7)\n",
       "        ;\n",
       "\n",
       "        \n",
       "    \n",
       "    \n",
       "            var circle_marker_79b39d91a35766be15c53d36a16ede61 = L.circleMarker(\n",
       "                [7.75, -8.8167],\n",
       "                {&quot;bubblingMouseEvents&quot;: true, &quot;color&quot;: &quot;red&quot;, &quot;dashArray&quot;: null, &quot;dashOffset&quot;: null, &quot;fill&quot;: true, &quot;fillColor&quot;: &quot;red&quot;, &quot;fillOpacity&quot;: 0.7, &quot;fillRule&quot;: &quot;evenodd&quot;, &quot;lineCap&quot;: &quot;round&quot;, &quot;lineJoin&quot;: &quot;round&quot;, &quot;opacity&quot;: 1.0, &quot;radius&quot;: 14.041848387799513, &quot;stroke&quot;: true, &quot;weight&quot;: 3}\n",
       "            ).addTo(marker_cluster_49d06a4f98a7e12b4056bc4d8f856073);\n",
       "        \n",
       "    \n",
       "        var popup_93cc0f69a5e57ec0df7ab9ee099ec717 = L.popup({&quot;maxWidth&quot;: &quot;100%&quot;});\n",
       "\n",
       "        \n",
       "            \n",
       "                var html_bacf1b209224be1b2985e6d1d18006db = $(`&lt;div id=&quot;html_bacf1b209224be1b2985e6d1d18006db&quot; style=&quot;width: 100.0%; height: 100.0%;&quot;&gt;             City: N’Zérékoré             Risk Score: 90.42             Risk Category: High             &lt;/div&gt;`)[0];\n",
       "                popup_93cc0f69a5e57ec0df7ab9ee099ec717.setContent(html_bacf1b209224be1b2985e6d1d18006db);\n",
       "            \n",
       "        \n",
       "\n",
       "        circle_marker_79b39d91a35766be15c53d36a16ede61.bindPopup(popup_93cc0f69a5e57ec0df7ab9ee099ec717)\n",
       "        ;\n",
       "\n",
       "        \n",
       "    \n",
       "    \n",
       "            var circle_marker_46f80961fb7796c3dbfebe4c54b9f082 = L.circleMarker(\n",
       "                [11.08, -12.401],\n",
       "                {&quot;bubblingMouseEvents&quot;: true, &quot;color&quot;: &quot;orange&quot;, &quot;dashArray&quot;: null, &quot;dashOffset&quot;: null, &quot;fill&quot;: true, &quot;fillColor&quot;: &quot;orange&quot;, &quot;fillOpacity&quot;: 0.7, &quot;fillRule&quot;: &quot;evenodd&quot;, &quot;lineCap&quot;: &quot;round&quot;, &quot;lineJoin&quot;: &quot;round&quot;, &quot;opacity&quot;: 1.0, &quot;radius&quot;: 11.492540828324026, &quot;stroke&quot;: true, &quot;weight&quot;: 3}\n",
       "            ).addTo(marker_cluster_49d06a4f98a7e12b4056bc4d8f856073);\n",
       "        \n",
       "    \n",
       "        var popup_b61d33e2465924bc9c156085170bd4f5 = L.popup({&quot;maxWidth&quot;: &quot;100%&quot;});\n",
       "\n",
       "        \n",
       "            \n",
       "                var html_a63a23074199ef0abb72396e95ce2e5a = $(`&lt;div id=&quot;html_a63a23074199ef0abb72396e95ce2e5a&quot; style=&quot;width: 100.0%; height: 100.0%;&quot;&gt;             City: Pita             Risk Score: 64.93             Risk Category: Medium             &lt;/div&gt;`)[0];\n",
       "                popup_b61d33e2465924bc9c156085170bd4f5.setContent(html_a63a23074199ef0abb72396e95ce2e5a);\n",
       "            \n",
       "        \n",
       "\n",
       "        circle_marker_46f80961fb7796c3dbfebe4c54b9f082.bindPopup(popup_b61d33e2465924bc9c156085170bd4f5)\n",
       "        ;\n",
       "\n",
       "        \n",
       "    \n",
       "    \n",
       "            var circle_marker_a72cc72755858001b5157c6daeb3a56c = L.circleMarker(\n",
       "                [11.4167, -9.1667],\n",
       "                {&quot;bubblingMouseEvents&quot;: true, &quot;color&quot;: &quot;red&quot;, &quot;dashArray&quot;: null, &quot;dashOffset&quot;: null, &quot;fill&quot;: true, &quot;fillColor&quot;: &quot;red&quot;, &quot;fillOpacity&quot;: 0.7, &quot;fillRule&quot;: &quot;evenodd&quot;, &quot;lineCap&quot;: &quot;round&quot;, &quot;lineJoin&quot;: &quot;round&quot;, &quot;opacity&quot;: 1.0, &quot;radius&quot;: 14.11619523442197, &quot;stroke&quot;: true, &quot;weight&quot;: 3}\n",
       "            ).addTo(marker_cluster_49d06a4f98a7e12b4056bc4d8f856073);\n",
       "        \n",
       "    \n",
       "        var popup_f0ac8ed3ffcd169b350157c54aa67ff1 = L.popup({&quot;maxWidth&quot;: &quot;100%&quot;});\n",
       "\n",
       "        \n",
       "            \n",
       "                var html_b31e853719ae285123d3b0ece6e9ed5b = $(`&lt;div id=&quot;html_b31e853719ae285123d3b0ece6e9ed5b&quot; style=&quot;width: 100.0%; height: 100.0%;&quot;&gt;             City: Siguiri             Risk Score: 91.16             Risk Category: High             &lt;/div&gt;`)[0];\n",
       "                popup_f0ac8ed3ffcd169b350157c54aa67ff1.setContent(html_b31e853719ae285123d3b0ece6e9ed5b);\n",
       "            \n",
       "        \n",
       "\n",
       "        circle_marker_a72cc72755858001b5157c6daeb3a56c.bindPopup(popup_f0ac8ed3ffcd169b350157c54aa67ff1)\n",
       "        ;\n",
       "\n",
       "        \n",
       "    \n",
       "    \n",
       "            var circle_marker_2ad13cb9c280035d989ed47be0fe7bf9 = L.circleMarker(\n",
       "                [11.44, -11.67],\n",
       "                {&quot;bubblingMouseEvents&quot;: true, &quot;color&quot;: &quot;orange&quot;, &quot;dashArray&quot;: null, &quot;dashOffset&quot;: null, &quot;fill&quot;: true, &quot;fillColor&quot;: &quot;orange&quot;, &quot;fillOpacity&quot;: 0.7, &quot;fillRule&quot;: &quot;evenodd&quot;, &quot;lineCap&quot;: &quot;round&quot;, &quot;lineJoin&quot;: &quot;round&quot;, &quot;opacity&quot;: 1.0, &quot;radius&quot;: 10.627838217390552, &quot;stroke&quot;: true, &quot;weight&quot;: 3}\n",
       "            ).addTo(marker_cluster_49d06a4f98a7e12b4056bc4d8f856073);\n",
       "        \n",
       "    \n",
       "        var popup_d223fa04acab24bac17a0e6cc2a9083b = L.popup({&quot;maxWidth&quot;: &quot;100%&quot;});\n",
       "\n",
       "        \n",
       "            \n",
       "                var html_b2d57057f319b6e76aea1901ea2a810a = $(`&lt;div id=&quot;html_b2d57057f319b6e76aea1901ea2a810a&quot; style=&quot;width: 100.0%; height: 100.0%;&quot;&gt;             City: Tougué             Risk Score: 56.28             Risk Category: Medium             &lt;/div&gt;`)[0];\n",
       "                popup_d223fa04acab24bac17a0e6cc2a9083b.setContent(html_b2d57057f319b6e76aea1901ea2a810a);\n",
       "            \n",
       "        \n",
       "\n",
       "        circle_marker_2ad13cb9c280035d989ed47be0fe7bf9.bindPopup(popup_d223fa04acab24bac17a0e6cc2a9083b)\n",
       "        ;\n",
       "\n",
       "        \n",
       "    \n",
       "    \n",
       "            var circle_marker_ba7d393c2dee3c87277cd05f17c28bde = L.circleMarker(\n",
       "                [10.905, -13.043],\n",
       "                {&quot;bubblingMouseEvents&quot;: true, &quot;color&quot;: &quot;orange&quot;, &quot;dashArray&quot;: null, &quot;dashOffset&quot;: null, &quot;fill&quot;: true, &quot;fillColor&quot;: &quot;orange&quot;, &quot;fillOpacity&quot;: 0.7, &quot;fillRule&quot;: &quot;evenodd&quot;, &quot;lineCap&quot;: &quot;round&quot;, &quot;lineJoin&quot;: &quot;round&quot;, &quot;opacity&quot;: 1.0, &quot;radius&quot;: 11.266887914398016, &quot;stroke&quot;: true, &quot;weight&quot;: 3}\n",
       "            ).addTo(marker_cluster_49d06a4f98a7e12b4056bc4d8f856073);\n",
       "        \n",
       "    \n",
       "        var popup_1202c3b0f09016c52733474d7bb1ffef = L.popup({&quot;maxWidth&quot;: &quot;100%&quot;});\n",
       "\n",
       "        \n",
       "            \n",
       "                var html_b54a75cedb910f9381ebd7987233f9c8 = $(`&lt;div id=&quot;html_b54a75cedb910f9381ebd7987233f9c8&quot; style=&quot;width: 100.0%; height: 100.0%;&quot;&gt;             City: Télimélé             Risk Score: 62.67             Risk Category: Medium             &lt;/div&gt;`)[0];\n",
       "                popup_1202c3b0f09016c52733474d7bb1ffef.setContent(html_b54a75cedb910f9381ebd7987233f9c8);\n",
       "            \n",
       "        \n",
       "\n",
       "        circle_marker_ba7d393c2dee3c87277cd05f17c28bde.bindPopup(popup_1202c3b0f09016c52733474d7bb1ffef)\n",
       "        ;\n",
       "\n",
       "        \n",
       "    \n",
       "    \n",
       "            var circle_marker_a8fa2d9bbb3fefbb704e95e6ea6be51b = L.circleMarker(\n",
       "                [7.566, -9.2533],\n",
       "                {&quot;bubblingMouseEvents&quot;: true, &quot;color&quot;: &quot;orange&quot;, &quot;dashArray&quot;: null, &quot;dashOffset&quot;: null, &quot;fill&quot;: true, &quot;fillColor&quot;: &quot;orange&quot;, &quot;fillOpacity&quot;: 0.7, &quot;fillRule&quot;: &quot;evenodd&quot;, &quot;lineCap&quot;: &quot;round&quot;, &quot;lineJoin&quot;: &quot;round&quot;, &quot;opacity&quot;: 1.0, &quot;radius&quot;: 10.52282564226135, &quot;stroke&quot;: true, &quot;weight&quot;: 3}\n",
       "            ).addTo(marker_cluster_49d06a4f98a7e12b4056bc4d8f856073);\n",
       "        \n",
       "    \n",
       "        var popup_9e5ead0fecc895793aa9cfa961809be9 = L.popup({&quot;maxWidth&quot;: &quot;100%&quot;});\n",
       "\n",
       "        \n",
       "            \n",
       "                var html_329c6f63e78f1e2e2bcf08539be5c84f = $(`&lt;div id=&quot;html_329c6f63e78f1e2e2bcf08539be5c84f&quot; style=&quot;width: 100.0%; height: 100.0%;&quot;&gt;             City: Yomou             Risk Score: 55.23             Risk Category: Medium             &lt;/div&gt;`)[0];\n",
       "                popup_9e5ead0fecc895793aa9cfa961809be9.setContent(html_329c6f63e78f1e2e2bcf08539be5c84f);\n",
       "            \n",
       "        \n",
       "\n",
       "        circle_marker_a8fa2d9bbb3fefbb704e95e6ea6be51b.bindPopup(popup_9e5ead0fecc895793aa9cfa961809be9)\n",
       "        ;\n",
       "\n",
       "        \n",
       "    \n",
       "    \n",
       "            marker_cluster_49d06a4f98a7e12b4056bc4d8f856073.addTo(map_b0601cc0b33430d71bf6d99ad3c05928);\n",
       "        \n",
       "&lt;/script&gt;\n",
       "&lt;/html&gt;\" style=\"position:absolute;width:100%;height:100%;left:0;top:0;border:none !important;\" allowfullscreen webkitallowfullscreen mozallowfullscreen></iframe></div></div>"
      ],
      "text/plain": [
       "<folium.folium.Map at 0x760397ae2e90>"
      ]
     },
     "execution_count": 14,
     "metadata": {},
     "output_type": "execute_result"
    }
   ],
   "source": [
    "risk_map = create_folium_risk_map(risk_df)\n",
    "risk_map"
   ]
  },
  {
   "cell_type": "code",
   "execution_count": 14,
   "metadata": {},
   "outputs": [
    {
     "data": {
      "application/vnd.plotly.v1+json": {
       "config": {
        "plotlyServerURL": "https://plot.ly"
       },
       "data": [
        {
         "customdata": [
          [
           35.27239126163133,
           "Low",
           8.6833,
           -8.6333
          ],
          [
           34.50776399849359,
           "Low",
           10.185,
           -14.043
          ],
          [
           0,
           "Low",
           10.94,
           -14.3
          ],
          [
           40.14274619992628,
           "Low",
           9.5092,
           -13.7122
          ],
          [
           56.51410691938771,
           "Medium",
           9.7056,
           -13.3769
          ],
          [
           82.18367328627549,
           "High",
           10.75,
           -11.1167
          ],
          [
           46.63139174560595,
           "Low",
           10.656,
           -12.272
          ],
          [
           96.75785625642406,
           "High",
           11.299,
           -10.726
          ],
          [
           50.311579309640784,
           "Low",
           9.7911,
           -13.5233
          ],
          [
           100,
           "High",
           10.0333,
           -10.7333
          ],
          [
           93.6860516780366,
           "High",
           9.43,
           -13.098
          ],
          [
           44.20099655879503,
           "Low",
           10.3804,
           -13.55
          ],
          [
           31.457395065741032,
           "Low",
           11.754,
           -13.213
          ],
          [
           73.72328244938855,
           "High",
           8.5667,
           -10.1333
          ],
          [
           71.79843436723422,
           "High",
           10.3833,
           -9.3
          ],
          [
           66.8404582870425,
           "Medium",
           10.0497,
           -12.8542
          ],
          [
           80.7492647461613,
           "High",
           9.1905,
           -10.12
          ],
          [
           47.168440861658176,
           "Low",
           11.5833,
           -11.9
          ],
          [
           71.69157022515375,
           "Medium",
           12.48,
           -13.296
          ],
          [
           82.81921883694667,
           "High",
           10.653,
           -9.892
          ],
          [
           49.703634358939695,
           "Low",
           9.2704,
           -9.02
          ],
          [
           57.9088600382845,
           "Medium",
           11.3167,
           -12.2833
          ],
          [
           47.7200250161622,
           "Low",
           7.8,
           -8.5333
          ],
          [
           52.6310520867733,
           "Medium",
           11.1833,
           -12.9333
          ],
          [
           64.19001848935191,
           "Medium",
           8.5504,
           -9.48
          ],
          [
           83.57303745072493,
           "High",
           12.084,
           -12.301
          ],
          [
           65.42092929871635,
           "Medium",
           10.3833,
           -12.0833
          ],
          [
           25.86980732620069,
           "Low",
           10.6333,
           -8.6833
          ],
          [
           90.44502702654707,
           "High",
           7.75,
           -8.8167
          ],
          [
           64.92233409184203,
           "Medium",
           11.08,
           -12.401
          ],
          [
           91.16890543884266,
           "High",
           11.4167,
           -9.1667
          ],
          [
           56.29308842836027,
           "Medium",
           11.44,
           -11.67
          ],
          [
           62.62274238671892,
           "Medium",
           10.905,
           -13.043
          ],
          [
           55.15970247767373,
           "Medium",
           7.566,
           -9.2533
          ]
         ],
         "geo": "geo",
         "hovertemplate": "<b>%{hovertext}</b><br><br>risk_score=%{marker.color:.2f}<br>risk_category=%{customdata[1]}<extra></extra>",
         "hovertext": [
          "Beyla",
          "Boffa",
          "Boké",
          "Conakry",
          "Coyah",
          "Dabola",
          "Dalaba",
          "Dinguiraye",
          "Dubréka",
          "Faranah",
          "Forécariah",
          "Fria",
          "Gaoual",
          "Guéckédou",
          "Kankan",
          "Kindia",
          "Kissidougou",
          "Koubia",
          "Koundara",
          "Kouroussa",
          "Kérouané",
          "Labé",
          "Lola",
          "Lélouma",
          "Macenta",
          "Mali",
          "Mamou",
          "Mandiana",
          "N’Zérékoré",
          "Pita",
          "Siguiri",
          "Tougué",
          "Télimélé",
          "Yomou"
         ],
         "lat": [
          8.6833,
          10.185,
          10.94,
          9.5092,
          9.7056,
          10.75,
          10.656,
          11.299,
          9.7911,
          10.0333,
          9.43,
          10.3804,
          11.754,
          8.5667,
          10.3833,
          10.0497,
          9.1905,
          11.5833,
          12.48,
          10.653,
          9.2704,
          11.3167,
          7.8,
          11.1833,
          8.5504,
          12.084,
          10.3833,
          10.6333,
          7.75,
          11.08,
          11.4167,
          11.44,
          10.905,
          7.566
         ],
         "legendgroup": "",
         "lon": [
          -8.6333,
          -14.043,
          -14.3,
          -13.7122,
          -13.3769,
          -11.1167,
          -12.272,
          -10.726,
          -13.5233,
          -10.7333,
          -13.098,
          -13.55,
          -13.213,
          -10.1333,
          -9.3,
          -12.8542,
          -10.12,
          -11.9,
          -13.296,
          -9.892,
          -9.02,
          -12.2833,
          -8.5333,
          -12.9333,
          -9.48,
          -12.301,
          -12.0833,
          -8.6833,
          -8.8167,
          -12.401,
          -9.1667,
          -11.67,
          -13.043,
          -9.2533
         ],
         "marker": {
          "color": [
           35.27239126163133,
           34.50776399849359,
           0,
           40.14274619992628,
           56.51410691938771,
           82.18367328627549,
           46.63139174560595,
           96.75785625642406,
           50.311579309640784,
           100,
           93.6860516780366,
           44.20099655879503,
           31.457395065741032,
           73.72328244938855,
           71.79843436723422,
           66.8404582870425,
           80.7492647461613,
           47.168440861658176,
           71.69157022515375,
           82.81921883694667,
           49.703634358939695,
           57.9088600382845,
           47.7200250161622,
           52.6310520867733,
           64.19001848935191,
           83.57303745072493,
           65.42092929871635,
           25.86980732620069,
           90.44502702654707,
           64.92233409184203,
           91.16890543884266,
           56.29308842836027,
           62.62274238671892,
           55.15970247767373
          ],
          "coloraxis": "coloraxis",
          "size": [
           35.27239126163133,
           34.50776399849359,
           0,
           40.14274619992628,
           56.51410691938771,
           82.18367328627549,
           46.63139174560595,
           96.75785625642406,
           50.311579309640784,
           100,
           93.6860516780366,
           44.20099655879503,
           31.457395065741032,
           73.72328244938855,
           71.79843436723422,
           66.8404582870425,
           80.7492647461613,
           47.168440861658176,
           71.69157022515375,
           82.81921883694667,
           49.703634358939695,
           57.9088600382845,
           47.7200250161622,
           52.6310520867733,
           64.19001848935191,
           83.57303745072493,
           65.42092929871635,
           25.86980732620069,
           90.44502702654707,
           64.92233409184203,
           91.16890543884266,
           56.29308842836027,
           62.62274238671892,
           55.15970247767373
          ],
          "sizemode": "area",
          "sizeref": 0.25,
          "symbol": "circle"
         },
         "mode": "markers",
         "name": "",
         "showlegend": false,
         "type": "scattergeo"
        }
       ],
       "layout": {
        "coloraxis": {
         "colorbar": {
          "title": {
           "text": "risk_score"
          }
         },
         "colorscale": [
          [
           0,
           "#440154"
          ],
          [
           0.1111111111111111,
           "#482878"
          ],
          [
           0.2222222222222222,
           "#3e4989"
          ],
          [
           0.3333333333333333,
           "#31688e"
          ],
          [
           0.4444444444444444,
           "#26828e"
          ],
          [
           0.5555555555555556,
           "#1f9e89"
          ],
          [
           0.6666666666666666,
           "#35b779"
          ],
          [
           0.7777777777777778,
           "#6ece58"
          ],
          [
           0.8888888888888888,
           "#b5de2b"
          ],
          [
           1,
           "#fde725"
          ]
         ]
        },
        "geo": {
         "center": {},
         "countrycolor": "rgb(204, 204, 204)",
         "domain": {
          "x": [
           0,
           1
          ],
          "y": [
           0,
           1
          ]
         },
         "landcolor": "rgb(243, 243, 243)",
         "projection": {
          "type": "natural earth"
         },
         "showland": true
        },
        "legend": {
         "itemsizing": "constant",
         "tracegroupgap": 0
        },
        "template": {
         "data": {
          "bar": [
           {
            "error_x": {
             "color": "#2a3f5f"
            },
            "error_y": {
             "color": "#2a3f5f"
            },
            "marker": {
             "line": {
              "color": "#E5ECF6",
              "width": 0.5
             },
             "pattern": {
              "fillmode": "overlay",
              "size": 10,
              "solidity": 0.2
             }
            },
            "type": "bar"
           }
          ],
          "barpolar": [
           {
            "marker": {
             "line": {
              "color": "#E5ECF6",
              "width": 0.5
             },
             "pattern": {
              "fillmode": "overlay",
              "size": 10,
              "solidity": 0.2
             }
            },
            "type": "barpolar"
           }
          ],
          "carpet": [
           {
            "aaxis": {
             "endlinecolor": "#2a3f5f",
             "gridcolor": "white",
             "linecolor": "white",
             "minorgridcolor": "white",
             "startlinecolor": "#2a3f5f"
            },
            "baxis": {
             "endlinecolor": "#2a3f5f",
             "gridcolor": "white",
             "linecolor": "white",
             "minorgridcolor": "white",
             "startlinecolor": "#2a3f5f"
            },
            "type": "carpet"
           }
          ],
          "choropleth": [
           {
            "colorbar": {
             "outlinewidth": 0,
             "ticks": ""
            },
            "type": "choropleth"
           }
          ],
          "contour": [
           {
            "colorbar": {
             "outlinewidth": 0,
             "ticks": ""
            },
            "colorscale": [
             [
              0,
              "#0d0887"
             ],
             [
              0.1111111111111111,
              "#46039f"
             ],
             [
              0.2222222222222222,
              "#7201a8"
             ],
             [
              0.3333333333333333,
              "#9c179e"
             ],
             [
              0.4444444444444444,
              "#bd3786"
             ],
             [
              0.5555555555555556,
              "#d8576b"
             ],
             [
              0.6666666666666666,
              "#ed7953"
             ],
             [
              0.7777777777777778,
              "#fb9f3a"
             ],
             [
              0.8888888888888888,
              "#fdca26"
             ],
             [
              1,
              "#f0f921"
             ]
            ],
            "type": "contour"
           }
          ],
          "contourcarpet": [
           {
            "colorbar": {
             "outlinewidth": 0,
             "ticks": ""
            },
            "type": "contourcarpet"
           }
          ],
          "heatmap": [
           {
            "colorbar": {
             "outlinewidth": 0,
             "ticks": ""
            },
            "colorscale": [
             [
              0,
              "#0d0887"
             ],
             [
              0.1111111111111111,
              "#46039f"
             ],
             [
              0.2222222222222222,
              "#7201a8"
             ],
             [
              0.3333333333333333,
              "#9c179e"
             ],
             [
              0.4444444444444444,
              "#bd3786"
             ],
             [
              0.5555555555555556,
              "#d8576b"
             ],
             [
              0.6666666666666666,
              "#ed7953"
             ],
             [
              0.7777777777777778,
              "#fb9f3a"
             ],
             [
              0.8888888888888888,
              "#fdca26"
             ],
             [
              1,
              "#f0f921"
             ]
            ],
            "type": "heatmap"
           }
          ],
          "heatmapgl": [
           {
            "colorbar": {
             "outlinewidth": 0,
             "ticks": ""
            },
            "colorscale": [
             [
              0,
              "#0d0887"
             ],
             [
              0.1111111111111111,
              "#46039f"
             ],
             [
              0.2222222222222222,
              "#7201a8"
             ],
             [
              0.3333333333333333,
              "#9c179e"
             ],
             [
              0.4444444444444444,
              "#bd3786"
             ],
             [
              0.5555555555555556,
              "#d8576b"
             ],
             [
              0.6666666666666666,
              "#ed7953"
             ],
             [
              0.7777777777777778,
              "#fb9f3a"
             ],
             [
              0.8888888888888888,
              "#fdca26"
             ],
             [
              1,
              "#f0f921"
             ]
            ],
            "type": "heatmapgl"
           }
          ],
          "histogram": [
           {
            "marker": {
             "pattern": {
              "fillmode": "overlay",
              "size": 10,
              "solidity": 0.2
             }
            },
            "type": "histogram"
           }
          ],
          "histogram2d": [
           {
            "colorbar": {
             "outlinewidth": 0,
             "ticks": ""
            },
            "colorscale": [
             [
              0,
              "#0d0887"
             ],
             [
              0.1111111111111111,
              "#46039f"
             ],
             [
              0.2222222222222222,
              "#7201a8"
             ],
             [
              0.3333333333333333,
              "#9c179e"
             ],
             [
              0.4444444444444444,
              "#bd3786"
             ],
             [
              0.5555555555555556,
              "#d8576b"
             ],
             [
              0.6666666666666666,
              "#ed7953"
             ],
             [
              0.7777777777777778,
              "#fb9f3a"
             ],
             [
              0.8888888888888888,
              "#fdca26"
             ],
             [
              1,
              "#f0f921"
             ]
            ],
            "type": "histogram2d"
           }
          ],
          "histogram2dcontour": [
           {
            "colorbar": {
             "outlinewidth": 0,
             "ticks": ""
            },
            "colorscale": [
             [
              0,
              "#0d0887"
             ],
             [
              0.1111111111111111,
              "#46039f"
             ],
             [
              0.2222222222222222,
              "#7201a8"
             ],
             [
              0.3333333333333333,
              "#9c179e"
             ],
             [
              0.4444444444444444,
              "#bd3786"
             ],
             [
              0.5555555555555556,
              "#d8576b"
             ],
             [
              0.6666666666666666,
              "#ed7953"
             ],
             [
              0.7777777777777778,
              "#fb9f3a"
             ],
             [
              0.8888888888888888,
              "#fdca26"
             ],
             [
              1,
              "#f0f921"
             ]
            ],
            "type": "histogram2dcontour"
           }
          ],
          "mesh3d": [
           {
            "colorbar": {
             "outlinewidth": 0,
             "ticks": ""
            },
            "type": "mesh3d"
           }
          ],
          "parcoords": [
           {
            "line": {
             "colorbar": {
              "outlinewidth": 0,
              "ticks": ""
             }
            },
            "type": "parcoords"
           }
          ],
          "pie": [
           {
            "automargin": true,
            "type": "pie"
           }
          ],
          "scatter": [
           {
            "fillpattern": {
             "fillmode": "overlay",
             "size": 10,
             "solidity": 0.2
            },
            "type": "scatter"
           }
          ],
          "scatter3d": [
           {
            "line": {
             "colorbar": {
              "outlinewidth": 0,
              "ticks": ""
             }
            },
            "marker": {
             "colorbar": {
              "outlinewidth": 0,
              "ticks": ""
             }
            },
            "type": "scatter3d"
           }
          ],
          "scattercarpet": [
           {
            "marker": {
             "colorbar": {
              "outlinewidth": 0,
              "ticks": ""
             }
            },
            "type": "scattercarpet"
           }
          ],
          "scattergeo": [
           {
            "marker": {
             "colorbar": {
              "outlinewidth": 0,
              "ticks": ""
             }
            },
            "type": "scattergeo"
           }
          ],
          "scattergl": [
           {
            "marker": {
             "colorbar": {
              "outlinewidth": 0,
              "ticks": ""
             }
            },
            "type": "scattergl"
           }
          ],
          "scattermapbox": [
           {
            "marker": {
             "colorbar": {
              "outlinewidth": 0,
              "ticks": ""
             }
            },
            "type": "scattermapbox"
           }
          ],
          "scatterpolar": [
           {
            "marker": {
             "colorbar": {
              "outlinewidth": 0,
              "ticks": ""
             }
            },
            "type": "scatterpolar"
           }
          ],
          "scatterpolargl": [
           {
            "marker": {
             "colorbar": {
              "outlinewidth": 0,
              "ticks": ""
             }
            },
            "type": "scatterpolargl"
           }
          ],
          "scatterternary": [
           {
            "marker": {
             "colorbar": {
              "outlinewidth": 0,
              "ticks": ""
             }
            },
            "type": "scatterternary"
           }
          ],
          "surface": [
           {
            "colorbar": {
             "outlinewidth": 0,
             "ticks": ""
            },
            "colorscale": [
             [
              0,
              "#0d0887"
             ],
             [
              0.1111111111111111,
              "#46039f"
             ],
             [
              0.2222222222222222,
              "#7201a8"
             ],
             [
              0.3333333333333333,
              "#9c179e"
             ],
             [
              0.4444444444444444,
              "#bd3786"
             ],
             [
              0.5555555555555556,
              "#d8576b"
             ],
             [
              0.6666666666666666,
              "#ed7953"
             ],
             [
              0.7777777777777778,
              "#fb9f3a"
             ],
             [
              0.8888888888888888,
              "#fdca26"
             ],
             [
              1,
              "#f0f921"
             ]
            ],
            "type": "surface"
           }
          ],
          "table": [
           {
            "cells": {
             "fill": {
              "color": "#EBF0F8"
             },
             "line": {
              "color": "white"
             }
            },
            "header": {
             "fill": {
              "color": "#C8D4E3"
             },
             "line": {
              "color": "white"
             }
            },
            "type": "table"
           }
          ]
         },
         "layout": {
          "annotationdefaults": {
           "arrowcolor": "#2a3f5f",
           "arrowhead": 0,
           "arrowwidth": 1
          },
          "autotypenumbers": "strict",
          "coloraxis": {
           "colorbar": {
            "outlinewidth": 0,
            "ticks": ""
           }
          },
          "colorscale": {
           "diverging": [
            [
             0,
             "#8e0152"
            ],
            [
             0.1,
             "#c51b7d"
            ],
            [
             0.2,
             "#de77ae"
            ],
            [
             0.3,
             "#f1b6da"
            ],
            [
             0.4,
             "#fde0ef"
            ],
            [
             0.5,
             "#f7f7f7"
            ],
            [
             0.6,
             "#e6f5d0"
            ],
            [
             0.7,
             "#b8e186"
            ],
            [
             0.8,
             "#7fbc41"
            ],
            [
             0.9,
             "#4d9221"
            ],
            [
             1,
             "#276419"
            ]
           ],
           "sequential": [
            [
             0,
             "#0d0887"
            ],
            [
             0.1111111111111111,
             "#46039f"
            ],
            [
             0.2222222222222222,
             "#7201a8"
            ],
            [
             0.3333333333333333,
             "#9c179e"
            ],
            [
             0.4444444444444444,
             "#bd3786"
            ],
            [
             0.5555555555555556,
             "#d8576b"
            ],
            [
             0.6666666666666666,
             "#ed7953"
            ],
            [
             0.7777777777777778,
             "#fb9f3a"
            ],
            [
             0.8888888888888888,
             "#fdca26"
            ],
            [
             1,
             "#f0f921"
            ]
           ],
           "sequentialminus": [
            [
             0,
             "#0d0887"
            ],
            [
             0.1111111111111111,
             "#46039f"
            ],
            [
             0.2222222222222222,
             "#7201a8"
            ],
            [
             0.3333333333333333,
             "#9c179e"
            ],
            [
             0.4444444444444444,
             "#bd3786"
            ],
            [
             0.5555555555555556,
             "#d8576b"
            ],
            [
             0.6666666666666666,
             "#ed7953"
            ],
            [
             0.7777777777777778,
             "#fb9f3a"
            ],
            [
             0.8888888888888888,
             "#fdca26"
            ],
            [
             1,
             "#f0f921"
            ]
           ]
          },
          "colorway": [
           "#636efa",
           "#EF553B",
           "#00cc96",
           "#ab63fa",
           "#FFA15A",
           "#19d3f3",
           "#FF6692",
           "#B6E880",
           "#FF97FF",
           "#FECB52"
          ],
          "font": {
           "color": "#2a3f5f"
          },
          "geo": {
           "bgcolor": "white",
           "lakecolor": "white",
           "landcolor": "#E5ECF6",
           "showlakes": true,
           "showland": true,
           "subunitcolor": "white"
          },
          "hoverlabel": {
           "align": "left"
          },
          "hovermode": "closest",
          "mapbox": {
           "style": "light"
          },
          "paper_bgcolor": "white",
          "plot_bgcolor": "#E5ECF6",
          "polar": {
           "angularaxis": {
            "gridcolor": "white",
            "linecolor": "white",
            "ticks": ""
           },
           "bgcolor": "#E5ECF6",
           "radialaxis": {
            "gridcolor": "white",
            "linecolor": "white",
            "ticks": ""
           }
          },
          "scene": {
           "xaxis": {
            "backgroundcolor": "#E5ECF6",
            "gridcolor": "white",
            "gridwidth": 2,
            "linecolor": "white",
            "showbackground": true,
            "ticks": "",
            "zerolinecolor": "white"
           },
           "yaxis": {
            "backgroundcolor": "#E5ECF6",
            "gridcolor": "white",
            "gridwidth": 2,
            "linecolor": "white",
            "showbackground": true,
            "ticks": "",
            "zerolinecolor": "white"
           },
           "zaxis": {
            "backgroundcolor": "#E5ECF6",
            "gridcolor": "white",
            "gridwidth": 2,
            "linecolor": "white",
            "showbackground": true,
            "ticks": "",
            "zerolinecolor": "white"
           }
          },
          "shapedefaults": {
           "line": {
            "color": "#2a3f5f"
           }
          },
          "ternary": {
           "aaxis": {
            "gridcolor": "white",
            "linecolor": "white",
            "ticks": ""
           },
           "baxis": {
            "gridcolor": "white",
            "linecolor": "white",
            "ticks": ""
           },
           "bgcolor": "#E5ECF6",
           "caxis": {
            "gridcolor": "white",
            "linecolor": "white",
            "ticks": ""
           }
          },
          "title": {
           "x": 0.05
          },
          "xaxis": {
           "automargin": true,
           "gridcolor": "white",
           "linecolor": "white",
           "ticks": "",
           "title": {
            "standoff": 15
           },
           "zerolinecolor": "white",
           "zerolinewidth": 2
          },
          "yaxis": {
           "automargin": true,
           "gridcolor": "white",
           "linecolor": "white",
           "ticks": "",
           "title": {
            "standoff": 15
           },
           "zerolinecolor": "white",
           "zerolinewidth": 2
          }
         }
        },
        "title": {
         "text": "Epidemic Risk Scores by City",
         "x": 0.5
        }
       }
      }
     },
     "metadata": {},
     "output_type": "display_data"
    }
   ],
   "source": [
    "# Create visualizations\n",
    "risk_choropleth = create_interactive_risk_choropleth(risk_df)\n",
    "risk_choropleth"
   ]
  }
 ],
 "metadata": {
  "kernelspec": {
   "display_name": "base",
   "language": "python",
   "name": "python3"
  },
  "language_info": {
   "codemirror_mode": {
    "name": "ipython",
    "version": 3
   },
   "file_extension": ".py",
   "mimetype": "text/x-python",
   "name": "python",
   "nbconvert_exporter": "python",
   "pygments_lexer": "ipython3",
   "version": "3.11.7"
  }
 },
 "nbformat": 4,
 "nbformat_minor": 2
}
